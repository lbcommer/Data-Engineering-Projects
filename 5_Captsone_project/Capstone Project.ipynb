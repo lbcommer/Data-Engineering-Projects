{
 "cells": [
  {
   "cell_type": "markdown",
   "metadata": {
    "editable": true
   },
   "source": [
    "# Airline Delay and Cancellation in US domestic flights\n",
    "### Data Engineering Capstone Project\n",
    "\n",
    "#### Project Summary\n",
    "\n",
    "We have used data from the Bureau of Transportation Statistics of the US about the local flights.\n",
    "We have built a data lake with Spark to extract and process the data. \n",
    "\n",
    "\n",
    "The project follows the follow steps:\n",
    "* Step 1: Scope the Project and Gather Data\n",
    "* Step 2: Explore and Assess the Data\n",
    "* Step 3: Define the Data Model\n",
    "* Step 4: Run ETL to Model the Data\n",
    "* Step 5: Complete Project Write Up"
   ]
  },
  {
   "cell_type": "code",
   "execution_count": 1,
   "metadata": {
    "editable": true
   },
   "outputs": [],
   "source": [
    "!pip install -q us"
   ]
  },
  {
   "cell_type": "code",
   "execution_count": 2,
   "metadata": {
    "editable": true
   },
   "outputs": [],
   "source": [
    "import pandas as pd\n",
    "from dateutil import tz\n",
    "import datetime\n",
    "import us\n",
    "from pyspark.sql import SparkSession\n",
    "from pyspark.sql.functions import udf, col\n",
    "from pyspark.sql.functions import year, month, dayofmonth, hour\n",
    "from pyspark.sql.functions import weekofyear, date_format, minute, second, to_timestamp\n",
    "from pyspark.sql.types import TimestampType\n",
    "from pyspark.sql import functions as F"
   ]
  },
  {
   "cell_type": "markdown",
   "metadata": {
    "editable": true
   },
   "source": [
    "### Step 1: Scope the Project and Gather Data\n",
    "\n",
    "#### Scope \n",
    "The objective of the project is to let the analysis of the US domestic flights delays and cancellations. For that, we have to take different data sources, build the data pipelines and the dimensional models required to be possible the analysis by the Data Analyst team.\n",
    "\n",
    "#### Describe and Gather Data \n",
    "The following datasets have been used in the project:\n",
    "- [Airline Delay and Cancellation Data, 2009 - 2018](https://www.kaggle.com/yuanyuwendymu/airline-delay-and-cancellation-data-2009-2018): US domestic flights delays \n",
    "- [2015 Flight Delays and Cancellations](https://www.kaggle.com/usdot/flight-delays): data about airports and airlines\n",
    "\n",
    "We are going to load the data about airlines, airports and flights:"
   ]
  },
  {
   "cell_type": "code",
   "execution_count": 3,
   "metadata": {
    "editable": true
   },
   "outputs": [],
   "source": [
    "airlines_df = pd.read_csv('flight_delays/airlines.csv')"
   ]
  },
  {
   "cell_type": "code",
   "execution_count": 4,
   "metadata": {
    "editable": true
   },
   "outputs": [
    {
     "data": {
      "text/html": [
       "<div>\n",
       "<style scoped>\n",
       "    .dataframe tbody tr th:only-of-type {\n",
       "        vertical-align: middle;\n",
       "    }\n",
       "\n",
       "    .dataframe tbody tr th {\n",
       "        vertical-align: top;\n",
       "    }\n",
       "\n",
       "    .dataframe thead th {\n",
       "        text-align: right;\n",
       "    }\n",
       "</style>\n",
       "<table border=\"1\" class=\"dataframe\">\n",
       "  <thead>\n",
       "    <tr style=\"text-align: right;\">\n",
       "      <th></th>\n",
       "      <th>IATA_CODE</th>\n",
       "      <th>AIRLINE</th>\n",
       "    </tr>\n",
       "  </thead>\n",
       "  <tbody>\n",
       "    <tr>\n",
       "      <th>0</th>\n",
       "      <td>UA</td>\n",
       "      <td>United Air Lines Inc.</td>\n",
       "    </tr>\n",
       "    <tr>\n",
       "      <th>1</th>\n",
       "      <td>AA</td>\n",
       "      <td>American Airlines Inc.</td>\n",
       "    </tr>\n",
       "    <tr>\n",
       "      <th>2</th>\n",
       "      <td>US</td>\n",
       "      <td>US Airways Inc.</td>\n",
       "    </tr>\n",
       "    <tr>\n",
       "      <th>3</th>\n",
       "      <td>F9</td>\n",
       "      <td>Frontier Airlines Inc.</td>\n",
       "    </tr>\n",
       "    <tr>\n",
       "      <th>4</th>\n",
       "      <td>B6</td>\n",
       "      <td>JetBlue Airways</td>\n",
       "    </tr>\n",
       "  </tbody>\n",
       "</table>\n",
       "</div>"
      ],
      "text/plain": [
       "  IATA_CODE                 AIRLINE\n",
       "0        UA   United Air Lines Inc.\n",
       "1        AA  American Airlines Inc.\n",
       "2        US         US Airways Inc.\n",
       "3        F9  Frontier Airlines Inc.\n",
       "4        B6         JetBlue Airways"
      ]
     },
     "execution_count": 4,
     "metadata": {},
     "output_type": "execute_result"
    }
   ],
   "source": [
    "airlines_df.head()"
   ]
  },
  {
   "cell_type": "code",
   "execution_count": 5,
   "metadata": {
    "editable": true
   },
   "outputs": [
    {
     "data": {
      "text/plain": [
       "(14, 2)"
      ]
     },
     "execution_count": 5,
     "metadata": {},
     "output_type": "execute_result"
    }
   ],
   "source": [
    "airlines_df.shape"
   ]
  },
  {
   "cell_type": "code",
   "execution_count": 6,
   "metadata": {
    "editable": true
   },
   "outputs": [],
   "source": [
    "airports_df = pd.read_csv('flight_delays/airports.csv')"
   ]
  },
  {
   "cell_type": "code",
   "execution_count": 7,
   "metadata": {
    "editable": true
   },
   "outputs": [
    {
     "data": {
      "text/html": [
       "<div>\n",
       "<style scoped>\n",
       "    .dataframe tbody tr th:only-of-type {\n",
       "        vertical-align: middle;\n",
       "    }\n",
       "\n",
       "    .dataframe tbody tr th {\n",
       "        vertical-align: top;\n",
       "    }\n",
       "\n",
       "    .dataframe thead th {\n",
       "        text-align: right;\n",
       "    }\n",
       "</style>\n",
       "<table border=\"1\" class=\"dataframe\">\n",
       "  <thead>\n",
       "    <tr style=\"text-align: right;\">\n",
       "      <th></th>\n",
       "      <th>IATA_CODE</th>\n",
       "      <th>AIRPORT</th>\n",
       "      <th>CITY</th>\n",
       "      <th>STATE</th>\n",
       "      <th>COUNTRY</th>\n",
       "      <th>LATITUDE</th>\n",
       "      <th>LONGITUDE</th>\n",
       "    </tr>\n",
       "  </thead>\n",
       "  <tbody>\n",
       "    <tr>\n",
       "      <th>0</th>\n",
       "      <td>ABE</td>\n",
       "      <td>Lehigh Valley International Airport</td>\n",
       "      <td>Allentown</td>\n",
       "      <td>PA</td>\n",
       "      <td>USA</td>\n",
       "      <td>40.65236</td>\n",
       "      <td>-75.44040</td>\n",
       "    </tr>\n",
       "    <tr>\n",
       "      <th>1</th>\n",
       "      <td>ABI</td>\n",
       "      <td>Abilene Regional Airport</td>\n",
       "      <td>Abilene</td>\n",
       "      <td>TX</td>\n",
       "      <td>USA</td>\n",
       "      <td>32.41132</td>\n",
       "      <td>-99.68190</td>\n",
       "    </tr>\n",
       "    <tr>\n",
       "      <th>2</th>\n",
       "      <td>ABQ</td>\n",
       "      <td>Albuquerque International Sunport</td>\n",
       "      <td>Albuquerque</td>\n",
       "      <td>NM</td>\n",
       "      <td>USA</td>\n",
       "      <td>35.04022</td>\n",
       "      <td>-106.60919</td>\n",
       "    </tr>\n",
       "    <tr>\n",
       "      <th>3</th>\n",
       "      <td>ABR</td>\n",
       "      <td>Aberdeen Regional Airport</td>\n",
       "      <td>Aberdeen</td>\n",
       "      <td>SD</td>\n",
       "      <td>USA</td>\n",
       "      <td>45.44906</td>\n",
       "      <td>-98.42183</td>\n",
       "    </tr>\n",
       "    <tr>\n",
       "      <th>4</th>\n",
       "      <td>ABY</td>\n",
       "      <td>Southwest Georgia Regional Airport</td>\n",
       "      <td>Albany</td>\n",
       "      <td>GA</td>\n",
       "      <td>USA</td>\n",
       "      <td>31.53552</td>\n",
       "      <td>-84.19447</td>\n",
       "    </tr>\n",
       "  </tbody>\n",
       "</table>\n",
       "</div>"
      ],
      "text/plain": [
       "  IATA_CODE                              AIRPORT         CITY STATE COUNTRY  \\\n",
       "0       ABE  Lehigh Valley International Airport    Allentown    PA     USA   \n",
       "1       ABI             Abilene Regional Airport      Abilene    TX     USA   \n",
       "2       ABQ    Albuquerque International Sunport  Albuquerque    NM     USA   \n",
       "3       ABR            Aberdeen Regional Airport     Aberdeen    SD     USA   \n",
       "4       ABY   Southwest Georgia Regional Airport       Albany    GA     USA   \n",
       "\n",
       "   LATITUDE  LONGITUDE  \n",
       "0  40.65236  -75.44040  \n",
       "1  32.41132  -99.68190  \n",
       "2  35.04022 -106.60919  \n",
       "3  45.44906  -98.42183  \n",
       "4  31.53552  -84.19447  "
      ]
     },
     "execution_count": 7,
     "metadata": {},
     "output_type": "execute_result"
    }
   ],
   "source": [
    "airports_df.head()"
   ]
  },
  {
   "cell_type": "code",
   "execution_count": 8,
   "metadata": {
    "editable": true
   },
   "outputs": [
    {
     "data": {
      "text/plain": [
       "(322, 7)"
      ]
     },
     "execution_count": 8,
     "metadata": {},
     "output_type": "execute_result"
    }
   ],
   "source": [
    "airports_df.shape"
   ]
  },
  {
   "cell_type": "code",
   "execution_count": 9,
   "metadata": {
    "editable": true
   },
   "outputs": [],
   "source": [
    "spark = SparkSession \\\n",
    "        .builder \\\n",
    "        .config(\"spark.jars.packages\", \"org.apache.hadoop:hadoop-aws:2.7.0\") \\\n",
    "        .getOrCreate()"
   ]
  },
  {
   "cell_type": "markdown",
   "metadata": {
    "editable": true
   },
   "source": [
    "The number of flights is very big so by now, we are going to use only data from 2016."
   ]
  },
  {
   "cell_type": "code",
   "execution_count": 10,
   "metadata": {
    "editable": true
   },
   "outputs": [],
   "source": [
    "flights_2016_df = spark.read.csv('flight_delays/2016.csv.gz', header=True)"
   ]
  },
  {
   "cell_type": "code",
   "execution_count": 11,
   "metadata": {
    "editable": true
   },
   "outputs": [
    {
     "data": {
      "text/html": [
       "<div>\n",
       "<style scoped>\n",
       "    .dataframe tbody tr th:only-of-type {\n",
       "        vertical-align: middle;\n",
       "    }\n",
       "\n",
       "    .dataframe tbody tr th {\n",
       "        vertical-align: top;\n",
       "    }\n",
       "\n",
       "    .dataframe thead th {\n",
       "        text-align: right;\n",
       "    }\n",
       "</style>\n",
       "<table border=\"1\" class=\"dataframe\">\n",
       "  <thead>\n",
       "    <tr style=\"text-align: right;\">\n",
       "      <th></th>\n",
       "      <th>FL_DATE</th>\n",
       "      <th>OP_CARRIER</th>\n",
       "      <th>OP_CARRIER_FL_NUM</th>\n",
       "      <th>ORIGIN</th>\n",
       "      <th>DEST</th>\n",
       "      <th>CRS_DEP_TIME</th>\n",
       "      <th>DEP_TIME</th>\n",
       "      <th>DEP_DELAY</th>\n",
       "      <th>TAXI_OUT</th>\n",
       "      <th>WHEELS_OFF</th>\n",
       "      <th>...</th>\n",
       "      <th>CRS_ELAPSED_TIME</th>\n",
       "      <th>ACTUAL_ELAPSED_TIME</th>\n",
       "      <th>AIR_TIME</th>\n",
       "      <th>DISTANCE</th>\n",
       "      <th>CARRIER_DELAY</th>\n",
       "      <th>WEATHER_DELAY</th>\n",
       "      <th>NAS_DELAY</th>\n",
       "      <th>SECURITY_DELAY</th>\n",
       "      <th>LATE_AIRCRAFT_DELAY</th>\n",
       "      <th>Unnamed: 27</th>\n",
       "    </tr>\n",
       "  </thead>\n",
       "  <tbody>\n",
       "    <tr>\n",
       "      <th>0</th>\n",
       "      <td>2016-01-01</td>\n",
       "      <td>DL</td>\n",
       "      <td>1248</td>\n",
       "      <td>DTW</td>\n",
       "      <td>LAX</td>\n",
       "      <td>1935</td>\n",
       "      <td>1935.0</td>\n",
       "      <td>0.0</td>\n",
       "      <td>23.0</td>\n",
       "      <td>1958.0</td>\n",
       "      <td>...</td>\n",
       "      <td>309.0</td>\n",
       "      <td>285.0</td>\n",
       "      <td>249.0</td>\n",
       "      <td>1979.0</td>\n",
       "      <td>None</td>\n",
       "      <td>None</td>\n",
       "      <td>None</td>\n",
       "      <td>None</td>\n",
       "      <td>None</td>\n",
       "      <td>None</td>\n",
       "    </tr>\n",
       "    <tr>\n",
       "      <th>1</th>\n",
       "      <td>2016-01-01</td>\n",
       "      <td>DL</td>\n",
       "      <td>1251</td>\n",
       "      <td>ATL</td>\n",
       "      <td>GRR</td>\n",
       "      <td>2125</td>\n",
       "      <td>2130.0</td>\n",
       "      <td>5.0</td>\n",
       "      <td>13.0</td>\n",
       "      <td>2143.0</td>\n",
       "      <td>...</td>\n",
       "      <td>116.0</td>\n",
       "      <td>109.0</td>\n",
       "      <td>92.0</td>\n",
       "      <td>640.0</td>\n",
       "      <td>None</td>\n",
       "      <td>None</td>\n",
       "      <td>None</td>\n",
       "      <td>None</td>\n",
       "      <td>None</td>\n",
       "      <td>None</td>\n",
       "    </tr>\n",
       "    <tr>\n",
       "      <th>2</th>\n",
       "      <td>2016-01-01</td>\n",
       "      <td>DL</td>\n",
       "      <td>1254</td>\n",
       "      <td>LAX</td>\n",
       "      <td>ATL</td>\n",
       "      <td>2255</td>\n",
       "      <td>2256.0</td>\n",
       "      <td>1.0</td>\n",
       "      <td>19.0</td>\n",
       "      <td>2315.0</td>\n",
       "      <td>...</td>\n",
       "      <td>245.0</td>\n",
       "      <td>231.0</td>\n",
       "      <td>207.0</td>\n",
       "      <td>1947.0</td>\n",
       "      <td>None</td>\n",
       "      <td>None</td>\n",
       "      <td>None</td>\n",
       "      <td>None</td>\n",
       "      <td>None</td>\n",
       "      <td>None</td>\n",
       "    </tr>\n",
       "    <tr>\n",
       "      <th>3</th>\n",
       "      <td>2016-01-01</td>\n",
       "      <td>DL</td>\n",
       "      <td>1255</td>\n",
       "      <td>SLC</td>\n",
       "      <td>ATL</td>\n",
       "      <td>1656</td>\n",
       "      <td>1700.0</td>\n",
       "      <td>4.0</td>\n",
       "      <td>12.0</td>\n",
       "      <td>1712.0</td>\n",
       "      <td>...</td>\n",
       "      <td>213.0</td>\n",
       "      <td>193.0</td>\n",
       "      <td>173.0</td>\n",
       "      <td>1590.0</td>\n",
       "      <td>None</td>\n",
       "      <td>None</td>\n",
       "      <td>None</td>\n",
       "      <td>None</td>\n",
       "      <td>None</td>\n",
       "      <td>None</td>\n",
       "    </tr>\n",
       "    <tr>\n",
       "      <th>4</th>\n",
       "      <td>2016-01-01</td>\n",
       "      <td>DL</td>\n",
       "      <td>1256</td>\n",
       "      <td>BZN</td>\n",
       "      <td>MSP</td>\n",
       "      <td>900</td>\n",
       "      <td>1012.0</td>\n",
       "      <td>72.0</td>\n",
       "      <td>63.0</td>\n",
       "      <td>1115.0</td>\n",
       "      <td>...</td>\n",
       "      <td>136.0</td>\n",
       "      <td>188.0</td>\n",
       "      <td>121.0</td>\n",
       "      <td>874.0</td>\n",
       "      <td>72.0</td>\n",
       "      <td>0.0</td>\n",
       "      <td>52.0</td>\n",
       "      <td>0.0</td>\n",
       "      <td>0.0</td>\n",
       "      <td>None</td>\n",
       "    </tr>\n",
       "  </tbody>\n",
       "</table>\n",
       "<p>5 rows × 28 columns</p>\n",
       "</div>"
      ],
      "text/plain": [
       "      FL_DATE OP_CARRIER OP_CARRIER_FL_NUM ORIGIN DEST CRS_DEP_TIME DEP_TIME  \\\n",
       "0  2016-01-01         DL              1248    DTW  LAX         1935   1935.0   \n",
       "1  2016-01-01         DL              1251    ATL  GRR         2125   2130.0   \n",
       "2  2016-01-01         DL              1254    LAX  ATL         2255   2256.0   \n",
       "3  2016-01-01         DL              1255    SLC  ATL         1656   1700.0   \n",
       "4  2016-01-01         DL              1256    BZN  MSP          900   1012.0   \n",
       "\n",
       "  DEP_DELAY TAXI_OUT WHEELS_OFF     ...     CRS_ELAPSED_TIME  \\\n",
       "0       0.0     23.0     1958.0     ...                309.0   \n",
       "1       5.0     13.0     2143.0     ...                116.0   \n",
       "2       1.0     19.0     2315.0     ...                245.0   \n",
       "3       4.0     12.0     1712.0     ...                213.0   \n",
       "4      72.0     63.0     1115.0     ...                136.0   \n",
       "\n",
       "  ACTUAL_ELAPSED_TIME AIR_TIME DISTANCE CARRIER_DELAY WEATHER_DELAY NAS_DELAY  \\\n",
       "0               285.0    249.0   1979.0          None          None      None   \n",
       "1               109.0     92.0    640.0          None          None      None   \n",
       "2               231.0    207.0   1947.0          None          None      None   \n",
       "3               193.0    173.0   1590.0          None          None      None   \n",
       "4               188.0    121.0    874.0          72.0           0.0      52.0   \n",
       "\n",
       "  SECURITY_DELAY LATE_AIRCRAFT_DELAY Unnamed: 27  \n",
       "0           None                None        None  \n",
       "1           None                None        None  \n",
       "2           None                None        None  \n",
       "3           None                None        None  \n",
       "4            0.0                 0.0        None  \n",
       "\n",
       "[5 rows x 28 columns]"
      ]
     },
     "execution_count": 11,
     "metadata": {},
     "output_type": "execute_result"
    }
   ],
   "source": [
    "flights_2016_df.limit(5).toPandas()"
   ]
  },
  {
   "cell_type": "markdown",
   "metadata": {
    "editable": true
   },
   "source": [
    "### Step 2: Explore and Assess the Data\n",
    "#### Explore the Data \n",
    "Identify data quality issues, like missing values, duplicate data, etc.\n",
    "\n",
    "#### Cleaning Steps\n",
    "We will review the three datasets we are going to work with (airles, airports and flights). We will:\n",
    "- check if there are missing values\n",
    "- check if there are duplicates\n",
    "- check if there are wrong or bad formed data (bad formed dates, negative distances,...)\n",
    "- check possible inconsistence data in the calculated fields in flights."
   ]
  },
  {
   "cell_type": "markdown",
   "metadata": {
    "editable": true
   },
   "source": [
    "#### airlines_df\n",
    "This is a small dataset that it is possible to inspect directly"
   ]
  },
  {
   "cell_type": "code",
   "execution_count": 12,
   "metadata": {
    "editable": true
   },
   "outputs": [
    {
     "data": {
      "text/html": [
       "<div>\n",
       "<style scoped>\n",
       "    .dataframe tbody tr th:only-of-type {\n",
       "        vertical-align: middle;\n",
       "    }\n",
       "\n",
       "    .dataframe tbody tr th {\n",
       "        vertical-align: top;\n",
       "    }\n",
       "\n",
       "    .dataframe thead th {\n",
       "        text-align: right;\n",
       "    }\n",
       "</style>\n",
       "<table border=\"1\" class=\"dataframe\">\n",
       "  <thead>\n",
       "    <tr style=\"text-align: right;\">\n",
       "      <th></th>\n",
       "      <th>IATA_CODE</th>\n",
       "      <th>AIRLINE</th>\n",
       "    </tr>\n",
       "  </thead>\n",
       "  <tbody>\n",
       "    <tr>\n",
       "      <th>0</th>\n",
       "      <td>UA</td>\n",
       "      <td>United Air Lines Inc.</td>\n",
       "    </tr>\n",
       "    <tr>\n",
       "      <th>1</th>\n",
       "      <td>AA</td>\n",
       "      <td>American Airlines Inc.</td>\n",
       "    </tr>\n",
       "    <tr>\n",
       "      <th>2</th>\n",
       "      <td>US</td>\n",
       "      <td>US Airways Inc.</td>\n",
       "    </tr>\n",
       "    <tr>\n",
       "      <th>3</th>\n",
       "      <td>F9</td>\n",
       "      <td>Frontier Airlines Inc.</td>\n",
       "    </tr>\n",
       "    <tr>\n",
       "      <th>4</th>\n",
       "      <td>B6</td>\n",
       "      <td>JetBlue Airways</td>\n",
       "    </tr>\n",
       "    <tr>\n",
       "      <th>5</th>\n",
       "      <td>OO</td>\n",
       "      <td>Skywest Airlines Inc.</td>\n",
       "    </tr>\n",
       "    <tr>\n",
       "      <th>6</th>\n",
       "      <td>AS</td>\n",
       "      <td>Alaska Airlines Inc.</td>\n",
       "    </tr>\n",
       "    <tr>\n",
       "      <th>7</th>\n",
       "      <td>NK</td>\n",
       "      <td>Spirit Air Lines</td>\n",
       "    </tr>\n",
       "    <tr>\n",
       "      <th>8</th>\n",
       "      <td>WN</td>\n",
       "      <td>Southwest Airlines Co.</td>\n",
       "    </tr>\n",
       "    <tr>\n",
       "      <th>9</th>\n",
       "      <td>DL</td>\n",
       "      <td>Delta Air Lines Inc.</td>\n",
       "    </tr>\n",
       "    <tr>\n",
       "      <th>10</th>\n",
       "      <td>EV</td>\n",
       "      <td>Atlantic Southeast Airlines</td>\n",
       "    </tr>\n",
       "    <tr>\n",
       "      <th>11</th>\n",
       "      <td>HA</td>\n",
       "      <td>Hawaiian Airlines Inc.</td>\n",
       "    </tr>\n",
       "    <tr>\n",
       "      <th>12</th>\n",
       "      <td>MQ</td>\n",
       "      <td>American Eagle Airlines Inc.</td>\n",
       "    </tr>\n",
       "    <tr>\n",
       "      <th>13</th>\n",
       "      <td>VX</td>\n",
       "      <td>Virgin America</td>\n",
       "    </tr>\n",
       "  </tbody>\n",
       "</table>\n",
       "</div>"
      ],
      "text/plain": [
       "   IATA_CODE                       AIRLINE\n",
       "0         UA         United Air Lines Inc.\n",
       "1         AA        American Airlines Inc.\n",
       "2         US               US Airways Inc.\n",
       "3         F9        Frontier Airlines Inc.\n",
       "4         B6               JetBlue Airways\n",
       "5         OO         Skywest Airlines Inc.\n",
       "6         AS          Alaska Airlines Inc.\n",
       "7         NK              Spirit Air Lines\n",
       "8         WN        Southwest Airlines Co.\n",
       "9         DL          Delta Air Lines Inc.\n",
       "10        EV   Atlantic Southeast Airlines\n",
       "11        HA        Hawaiian Airlines Inc.\n",
       "12        MQ  American Eagle Airlines Inc.\n",
       "13        VX                Virgin America"
      ]
     },
     "execution_count": 12,
     "metadata": {},
     "output_type": "execute_result"
    }
   ],
   "source": [
    "airlines_df"
   ]
  },
  {
   "cell_type": "code",
   "execution_count": 13,
   "metadata": {
    "editable": true
   },
   "outputs": [
    {
     "data": {
      "text/plain": [
       "14"
      ]
     },
     "execution_count": 13,
     "metadata": {},
     "output_type": "execute_result"
    }
   ],
   "source": [
    "airlines_df['IATA_CODE'].nunique()"
   ]
  },
  {
   "cell_type": "markdown",
   "metadata": {
    "editable": true
   },
   "source": [
    "#### airports_df"
   ]
  },
  {
   "cell_type": "code",
   "execution_count": 14,
   "metadata": {
    "editable": true
   },
   "outputs": [
    {
     "data": {
      "text/html": [
       "<div>\n",
       "<style scoped>\n",
       "    .dataframe tbody tr th:only-of-type {\n",
       "        vertical-align: middle;\n",
       "    }\n",
       "\n",
       "    .dataframe tbody tr th {\n",
       "        vertical-align: top;\n",
       "    }\n",
       "\n",
       "    .dataframe thead th {\n",
       "        text-align: right;\n",
       "    }\n",
       "</style>\n",
       "<table border=\"1\" class=\"dataframe\">\n",
       "  <thead>\n",
       "    <tr style=\"text-align: right;\">\n",
       "      <th></th>\n",
       "      <th>IATA_CODE</th>\n",
       "      <th>AIRPORT</th>\n",
       "      <th>CITY</th>\n",
       "      <th>STATE</th>\n",
       "      <th>COUNTRY</th>\n",
       "      <th>LATITUDE</th>\n",
       "      <th>LONGITUDE</th>\n",
       "    </tr>\n",
       "  </thead>\n",
       "  <tbody>\n",
       "    <tr>\n",
       "      <th>0</th>\n",
       "      <td>ABE</td>\n",
       "      <td>Lehigh Valley International Airport</td>\n",
       "      <td>Allentown</td>\n",
       "      <td>PA</td>\n",
       "      <td>USA</td>\n",
       "      <td>40.65236</td>\n",
       "      <td>-75.44040</td>\n",
       "    </tr>\n",
       "    <tr>\n",
       "      <th>1</th>\n",
       "      <td>ABI</td>\n",
       "      <td>Abilene Regional Airport</td>\n",
       "      <td>Abilene</td>\n",
       "      <td>TX</td>\n",
       "      <td>USA</td>\n",
       "      <td>32.41132</td>\n",
       "      <td>-99.68190</td>\n",
       "    </tr>\n",
       "    <tr>\n",
       "      <th>2</th>\n",
       "      <td>ABQ</td>\n",
       "      <td>Albuquerque International Sunport</td>\n",
       "      <td>Albuquerque</td>\n",
       "      <td>NM</td>\n",
       "      <td>USA</td>\n",
       "      <td>35.04022</td>\n",
       "      <td>-106.60919</td>\n",
       "    </tr>\n",
       "    <tr>\n",
       "      <th>3</th>\n",
       "      <td>ABR</td>\n",
       "      <td>Aberdeen Regional Airport</td>\n",
       "      <td>Aberdeen</td>\n",
       "      <td>SD</td>\n",
       "      <td>USA</td>\n",
       "      <td>45.44906</td>\n",
       "      <td>-98.42183</td>\n",
       "    </tr>\n",
       "    <tr>\n",
       "      <th>4</th>\n",
       "      <td>ABY</td>\n",
       "      <td>Southwest Georgia Regional Airport</td>\n",
       "      <td>Albany</td>\n",
       "      <td>GA</td>\n",
       "      <td>USA</td>\n",
       "      <td>31.53552</td>\n",
       "      <td>-84.19447</td>\n",
       "    </tr>\n",
       "  </tbody>\n",
       "</table>\n",
       "</div>"
      ],
      "text/plain": [
       "  IATA_CODE                              AIRPORT         CITY STATE COUNTRY  \\\n",
       "0       ABE  Lehigh Valley International Airport    Allentown    PA     USA   \n",
       "1       ABI             Abilene Regional Airport      Abilene    TX     USA   \n",
       "2       ABQ    Albuquerque International Sunport  Albuquerque    NM     USA   \n",
       "3       ABR            Aberdeen Regional Airport     Aberdeen    SD     USA   \n",
       "4       ABY   Southwest Georgia Regional Airport       Albany    GA     USA   \n",
       "\n",
       "   LATITUDE  LONGITUDE  \n",
       "0  40.65236  -75.44040  \n",
       "1  32.41132  -99.68190  \n",
       "2  35.04022 -106.60919  \n",
       "3  45.44906  -98.42183  \n",
       "4  31.53552  -84.19447  "
      ]
     },
     "execution_count": 14,
     "metadata": {},
     "output_type": "execute_result"
    }
   ],
   "source": [
    "airports_df.head()"
   ]
  },
  {
   "cell_type": "code",
   "execution_count": 15,
   "metadata": {
    "editable": true
   },
   "outputs": [
    {
     "data": {
      "text/plain": [
       "(322, 7)"
      ]
     },
     "execution_count": 15,
     "metadata": {},
     "output_type": "execute_result"
    }
   ],
   "source": [
    "airports_df.shape"
   ]
  },
  {
   "cell_type": "code",
   "execution_count": 16,
   "metadata": {
    "editable": true
   },
   "outputs": [
    {
     "data": {
      "text/plain": [
       "0"
      ]
     },
     "execution_count": 16,
     "metadata": {},
     "output_type": "execute_result"
    }
   ],
   "source": [
    "airports_df[airports_df['COUNTRY'] != 'USA'].size"
   ]
  },
  {
   "cell_type": "code",
   "execution_count": 17,
   "metadata": {
    "editable": true
   },
   "outputs": [
    {
     "data": {
      "text/plain": [
       "IATA_CODE    0\n",
       "AIRPORT      0\n",
       "CITY         0\n",
       "STATE        0\n",
       "COUNTRY      0\n",
       "LATITUDE     3\n",
       "LONGITUDE    3\n",
       "dtype: int64"
      ]
     },
     "execution_count": 17,
     "metadata": {},
     "output_type": "execute_result"
    }
   ],
   "source": [
    "airports_df.isnull().sum()"
   ]
  },
  {
   "cell_type": "code",
   "execution_count": 18,
   "metadata": {
    "editable": true
   },
   "outputs": [
    {
     "data": {
      "text/plain": [
       "0"
      ]
     },
     "execution_count": 18,
     "metadata": {},
     "output_type": "execute_result"
    }
   ],
   "source": [
    "airports_df.duplicated().sum()"
   ]
  },
  {
   "cell_type": "code",
   "execution_count": 19,
   "metadata": {
    "editable": true
   },
   "outputs": [
    {
     "name": "stdout",
     "output_type": "stream",
     "text": [
      "Min lat: 13.48345 | Max lat: 71.28545\n"
     ]
    }
   ],
   "source": [
    "print(\"Min lat: {} | Max lat: {}\".format(airports_df['LATITUDE'].min(), airports_df['LATITUDE'].max()))"
   ]
  },
  {
   "cell_type": "code",
   "execution_count": 20,
   "metadata": {
    "editable": true
   },
   "outputs": [
    {
     "name": "stdout",
     "output_type": "stream",
     "text": [
      "Min lon: -176.64603 | Max lon: -64.79856\n"
     ]
    }
   ],
   "source": [
    "print(\"Min lon: {} | Max lon: {}\".format(airports_df['LONGITUDE'].min(), airports_df['LONGITUDE'].max()))"
   ]
  },
  {
   "cell_type": "code",
   "execution_count": 21,
   "metadata": {
    "editable": true
   },
   "outputs": [
    {
     "data": {
      "text/plain": [
       "array(['PA', 'TX', 'NM', 'SD', 'GA', 'MA', 'CA', 'NJ', 'AK', 'LA', 'NY',\n",
       "       'IA', 'MI', 'CO', 'WI', 'NC', 'CT', 'ME', 'AL', 'MT', 'ND', 'MN',\n",
       "       'WA', 'IL', 'TN', 'ID', 'PR', 'VT', 'MD', 'SC', 'OH', 'UT', 'VA',\n",
       "       'WY', 'MO', 'WV', 'KY', 'FL', 'NV', 'OR', 'IN', 'AZ', 'AR', 'KS',\n",
       "       'MS', 'NE', 'GU', 'HI', 'DE', 'OK', 'NH', 'AS', 'RI', 'VI'], dtype=object)"
      ]
     },
     "execution_count": 21,
     "metadata": {},
     "output_type": "execute_result"
    }
   ],
   "source": [
    "states = airports_df['STATE'].unique()\n",
    "states"
   ]
  },
  {
   "cell_type": "markdown",
   "metadata": {
    "editable": true
   },
   "source": [
    "The airports_df dataset looks like right: the data is about US and, the states and values of latitude and longitude look ok, with only a few missing values."
   ]
  },
  {
   "cell_type": "markdown",
   "metadata": {
    "editable": true
   },
   "source": [
    "#### flights_df"
   ]
  },
  {
   "cell_type": "code",
   "execution_count": 22,
   "metadata": {
    "editable": true
   },
   "outputs": [],
   "source": [
    "flights_df = flights_2016_df"
   ]
  },
  {
   "cell_type": "code",
   "execution_count": 23,
   "metadata": {
    "editable": true
   },
   "outputs": [
    {
     "data": {
      "text/plain": [
       "5617658"
      ]
     },
     "execution_count": 23,
     "metadata": {},
     "output_type": "execute_result"
    }
   ],
   "source": [
    "flights_df.count()"
   ]
  },
  {
   "cell_type": "code",
   "execution_count": 24,
   "metadata": {
    "editable": true
   },
   "outputs": [
    {
     "name": "stdout",
     "output_type": "stream",
     "text": [
      "root\n",
      " |-- FL_DATE: string (nullable = true)\n",
      " |-- OP_CARRIER: string (nullable = true)\n",
      " |-- OP_CARRIER_FL_NUM: string (nullable = true)\n",
      " |-- ORIGIN: string (nullable = true)\n",
      " |-- DEST: string (nullable = true)\n",
      " |-- CRS_DEP_TIME: string (nullable = true)\n",
      " |-- DEP_TIME: string (nullable = true)\n",
      " |-- DEP_DELAY: string (nullable = true)\n",
      " |-- TAXI_OUT: string (nullable = true)\n",
      " |-- WHEELS_OFF: string (nullable = true)\n",
      " |-- WHEELS_ON: string (nullable = true)\n",
      " |-- TAXI_IN: string (nullable = true)\n",
      " |-- CRS_ARR_TIME: string (nullable = true)\n",
      " |-- ARR_TIME: string (nullable = true)\n",
      " |-- ARR_DELAY: string (nullable = true)\n",
      " |-- CANCELLED: string (nullable = true)\n",
      " |-- CANCELLATION_CODE: string (nullable = true)\n",
      " |-- DIVERTED: string (nullable = true)\n",
      " |-- CRS_ELAPSED_TIME: string (nullable = true)\n",
      " |-- ACTUAL_ELAPSED_TIME: string (nullable = true)\n",
      " |-- AIR_TIME: string (nullable = true)\n",
      " |-- DISTANCE: string (nullable = true)\n",
      " |-- CARRIER_DELAY: string (nullable = true)\n",
      " |-- WEATHER_DELAY: string (nullable = true)\n",
      " |-- NAS_DELAY: string (nullable = true)\n",
      " |-- SECURITY_DELAY: string (nullable = true)\n",
      " |-- LATE_AIRCRAFT_DELAY: string (nullable = true)\n",
      " |-- Unnamed: 27: string (nullable = true)\n",
      "\n"
     ]
    }
   ],
   "source": [
    "flights_df.printSchema()"
   ]
  },
  {
   "cell_type": "markdown",
   "metadata": {
    "editable": true
   },
   "source": [
    "Let's check if there are duplicates and missing values:"
   ]
  },
  {
   "cell_type": "code",
   "execution_count": 25,
   "metadata": {
    "editable": true
   },
   "outputs": [],
   "source": [
    "if flights_df.count() > flights_df.dropDuplicates().count():\n",
    "    raise ValueError('Data has duplicates')"
   ]
  },
  {
   "cell_type": "code",
   "execution_count": 26,
   "metadata": {
    "editable": true
   },
   "outputs": [],
   "source": [
    "flights_df_agg = flights_df.agg(\n",
    "    *[F.count(F.when(F.isnull(c), c)).alias(c) for c in flights_df.columns])"
   ]
  },
  {
   "cell_type": "code",
   "execution_count": 27,
   "metadata": {
    "editable": true
   },
   "outputs": [
    {
     "data": {
      "text/html": [
       "<div>\n",
       "<style scoped>\n",
       "    .dataframe tbody tr th:only-of-type {\n",
       "        vertical-align: middle;\n",
       "    }\n",
       "\n",
       "    .dataframe tbody tr th {\n",
       "        vertical-align: top;\n",
       "    }\n",
       "\n",
       "    .dataframe thead th {\n",
       "        text-align: right;\n",
       "    }\n",
       "</style>\n",
       "<table border=\"1\" class=\"dataframe\">\n",
       "  <thead>\n",
       "    <tr style=\"text-align: right;\">\n",
       "      <th></th>\n",
       "      <th>0</th>\n",
       "    </tr>\n",
       "  </thead>\n",
       "  <tbody>\n",
       "    <tr>\n",
       "      <th>FL_DATE</th>\n",
       "      <td>0</td>\n",
       "    </tr>\n",
       "    <tr>\n",
       "      <th>OP_CARRIER</th>\n",
       "      <td>0</td>\n",
       "    </tr>\n",
       "    <tr>\n",
       "      <th>OP_CARRIER_FL_NUM</th>\n",
       "      <td>0</td>\n",
       "    </tr>\n",
       "    <tr>\n",
       "      <th>ORIGIN</th>\n",
       "      <td>0</td>\n",
       "    </tr>\n",
       "    <tr>\n",
       "      <th>DEST</th>\n",
       "      <td>0</td>\n",
       "    </tr>\n",
       "    <tr>\n",
       "      <th>CRS_DEP_TIME</th>\n",
       "      <td>0</td>\n",
       "    </tr>\n",
       "    <tr>\n",
       "      <th>DEP_TIME</th>\n",
       "      <td>63456</td>\n",
       "    </tr>\n",
       "    <tr>\n",
       "      <th>DEP_DELAY</th>\n",
       "      <td>63456</td>\n",
       "    </tr>\n",
       "    <tr>\n",
       "      <th>TAXI_OUT</th>\n",
       "      <td>65418</td>\n",
       "    </tr>\n",
       "    <tr>\n",
       "      <th>WHEELS_OFF</th>\n",
       "      <td>65418</td>\n",
       "    </tr>\n",
       "    <tr>\n",
       "      <th>WHEELS_ON</th>\n",
       "      <td>67844</td>\n",
       "    </tr>\n",
       "    <tr>\n",
       "      <th>TAXI_IN</th>\n",
       "      <td>67844</td>\n",
       "    </tr>\n",
       "    <tr>\n",
       "      <th>CRS_ARR_TIME</th>\n",
       "      <td>0</td>\n",
       "    </tr>\n",
       "    <tr>\n",
       "      <th>ARR_TIME</th>\n",
       "      <td>67844</td>\n",
       "    </tr>\n",
       "    <tr>\n",
       "      <th>ARR_DELAY</th>\n",
       "      <td>79513</td>\n",
       "    </tr>\n",
       "    <tr>\n",
       "      <th>CANCELLED</th>\n",
       "      <td>0</td>\n",
       "    </tr>\n",
       "    <tr>\n",
       "      <th>CANCELLATION_CODE</th>\n",
       "      <td>5551797</td>\n",
       "    </tr>\n",
       "    <tr>\n",
       "      <th>DIVERTED</th>\n",
       "      <td>0</td>\n",
       "    </tr>\n",
       "    <tr>\n",
       "      <th>CRS_ELAPSED_TIME</th>\n",
       "      <td>6</td>\n",
       "    </tr>\n",
       "    <tr>\n",
       "      <th>ACTUAL_ELAPSED_TIME</th>\n",
       "      <td>79513</td>\n",
       "    </tr>\n",
       "    <tr>\n",
       "      <th>AIR_TIME</th>\n",
       "      <td>79513</td>\n",
       "    </tr>\n",
       "    <tr>\n",
       "      <th>DISTANCE</th>\n",
       "      <td>0</td>\n",
       "    </tr>\n",
       "    <tr>\n",
       "      <th>CARRIER_DELAY</th>\n",
       "      <td>4653419</td>\n",
       "    </tr>\n",
       "    <tr>\n",
       "      <th>WEATHER_DELAY</th>\n",
       "      <td>4653419</td>\n",
       "    </tr>\n",
       "    <tr>\n",
       "      <th>NAS_DELAY</th>\n",
       "      <td>4653419</td>\n",
       "    </tr>\n",
       "    <tr>\n",
       "      <th>SECURITY_DELAY</th>\n",
       "      <td>4653419</td>\n",
       "    </tr>\n",
       "    <tr>\n",
       "      <th>LATE_AIRCRAFT_DELAY</th>\n",
       "      <td>4653419</td>\n",
       "    </tr>\n",
       "    <tr>\n",
       "      <th>Unnamed: 27</th>\n",
       "      <td>5617658</td>\n",
       "    </tr>\n",
       "  </tbody>\n",
       "</table>\n",
       "</div>"
      ],
      "text/plain": [
       "                           0\n",
       "FL_DATE                    0\n",
       "OP_CARRIER                 0\n",
       "OP_CARRIER_FL_NUM          0\n",
       "ORIGIN                     0\n",
       "DEST                       0\n",
       "CRS_DEP_TIME               0\n",
       "DEP_TIME               63456\n",
       "DEP_DELAY              63456\n",
       "TAXI_OUT               65418\n",
       "WHEELS_OFF             65418\n",
       "WHEELS_ON              67844\n",
       "TAXI_IN                67844\n",
       "CRS_ARR_TIME               0\n",
       "ARR_TIME               67844\n",
       "ARR_DELAY              79513\n",
       "CANCELLED                  0\n",
       "CANCELLATION_CODE    5551797\n",
       "DIVERTED                   0\n",
       "CRS_ELAPSED_TIME           6\n",
       "ACTUAL_ELAPSED_TIME    79513\n",
       "AIR_TIME               79513\n",
       "DISTANCE                   0\n",
       "CARRIER_DELAY        4653419\n",
       "WEATHER_DELAY        4653419\n",
       "NAS_DELAY            4653419\n",
       "SECURITY_DELAY       4653419\n",
       "LATE_AIRCRAFT_DELAY  4653419\n",
       "Unnamed: 27          5617658"
      ]
     },
     "execution_count": 27,
     "metadata": {},
     "output_type": "execute_result"
    }
   ],
   "source": [
    "flights_df_agg.toPandas().T"
   ]
  },
  {
   "cell_type": "markdown",
   "metadata": {
    "editable": true
   },
   "source": [
    "We are not going to use all the columns so, altough some of them have a lot of missing values (the last one for example) it is not going to be a problem but, we have to be sure we work only with rows with values in the important columns: "
   ]
  },
  {
   "cell_type": "code",
   "execution_count": 28,
   "metadata": {
    "editable": true
   },
   "outputs": [],
   "source": [
    "flights_must_cols = ['FL_DATE', 'OP_CARRIER', 'ORIGIN', 'DEST', \n",
    "                     'CRS_DEP_TIME', 'DEP_DELAY', 'CRS_ARR_TIME', \n",
    "                     'ARR_DELAY', 'CRS_ELAPSED_TIME', 'ACTUAL_ELAPSED_TIME']"
   ]
  },
  {
   "cell_type": "code",
   "execution_count": 29,
   "metadata": {
    "editable": true
   },
   "outputs": [],
   "source": [
    "flights_df = flights_df.na.drop(subset=flights_must_cols)"
   ]
  },
  {
   "cell_type": "code",
   "execution_count": 30,
   "metadata": {
    "editable": true
   },
   "outputs": [
    {
     "data": {
      "text/plain": [
       "5538145"
      ]
     },
     "execution_count": 30,
     "metadata": {},
     "output_type": "execute_result"
    }
   ],
   "source": [
    "flights_df.count()"
   ]
  },
  {
   "cell_type": "markdown",
   "metadata": {
    "editable": true
   },
   "source": [
    "A lot of missing values in the column 'CANCELLATION_CODE' but, that happens when a flight was not cancelled:"
   ]
  },
  {
   "cell_type": "code",
   "execution_count": 31,
   "metadata": {
    "editable": true
   },
   "outputs": [
    {
     "name": "stdout",
     "output_type": "stream",
     "text": [
      "+-----------------+-------+\n",
      "|CANCELLATION_CODE|  count|\n",
      "+-----------------+-------+\n",
      "|             null|5538145|\n",
      "+-----------------+-------+\n",
      "\n"
     ]
    }
   ],
   "source": [
    "flights_df.groupby('CANCELLATION_CODE').count().show()"
   ]
  },
  {
   "cell_type": "code",
   "execution_count": 32,
   "metadata": {
    "editable": true
   },
   "outputs": [
    {
     "name": "stdout",
     "output_type": "stream",
     "text": [
      "+---------+-------+\n",
      "|CANCELLED|  count|\n",
      "+---------+-------+\n",
      "|      0.0|5538145|\n",
      "+---------+-------+\n",
      "\n"
     ]
    }
   ],
   "source": [
    "flights_df.groupby('CANCELLED').count().show()"
   ]
  },
  {
   "cell_type": "markdown",
   "metadata": {
    "editable": true
   },
   "source": [
    "By definition: ACTUAL_ELAPSED_TIME = AIR_TIME + TAXI_IN + TAXI_OUT"
   ]
  },
  {
   "cell_type": "code",
   "execution_count": 33,
   "metadata": {
    "editable": true
   },
   "outputs": [
    {
     "data": {
      "text/plain": [
       "0"
      ]
     },
     "execution_count": 33,
     "metadata": {},
     "output_type": "execute_result"
    }
   ],
   "source": [
    "flights_df.where(flights_df['ACTUAL_ELAPSED_TIME'] != \n",
    "                 (flights_df['AIR_TIME'] + \n",
    "                  flights_df['TAXI_IN'] + \n",
    "                  flights_df['TAXI_OUT'])).count()"
   ]
  },
  {
   "cell_type": "code",
   "execution_count": 34,
   "metadata": {
    "editable": true
   },
   "outputs": [
    {
     "data": {
      "text/plain": [
       "0"
      ]
     },
     "execution_count": 34,
     "metadata": {},
     "output_type": "execute_result"
    }
   ],
   "source": [
    "flights_df.where(flights_df['DISTANCE'] <= 0).count()"
   ]
  },
  {
   "cell_type": "code",
   "execution_count": 35,
   "metadata": {
    "editable": true
   },
   "outputs": [
    {
     "data": {
      "text/plain": [
       "0"
      ]
     },
     "execution_count": 35,
     "metadata": {},
     "output_type": "execute_result"
    }
   ],
   "source": [
    "flights_df.where(flights_df['AIR_TIME'] <= 0).count()"
   ]
  },
  {
   "cell_type": "markdown",
   "metadata": {
    "editable": true
   },
   "source": [
    "For non cancelled flights we don't have data about delay causes, which makes sense: "
   ]
  },
  {
   "cell_type": "code",
   "execution_count": 36,
   "metadata": {
    "editable": true
   },
   "outputs": [
    {
     "name": "stdout",
     "output_type": "stream",
     "text": [
      "+-----------------+-------------+-------------+---------+--------------+-------------------+\n",
      "|CANCELLATION_CODE|CARRIER_DELAY|WEATHER_DELAY|NAS_DELAY|SECURITY_DELAY|LATE_AIRCRAFT_DELAY|\n",
      "+-----------------+-------------+-------------+---------+--------------+-------------------+\n",
      "+-----------------+-------------+-------------+---------+--------------+-------------------+\n",
      "\n"
     ]
    }
   ],
   "source": [
    "flights_df.where(flights_df['CANCELLED'] == 1.0).\\\n",
    "    select('CANCELLATION_CODE',\n",
    "           'CARRIER_DELAY',\n",
    "           'WEATHER_DELAY',\n",
    "           'NAS_DELAY',\n",
    "           'SECURITY_DELAY',\n",
    "           'LATE_AIRCRAFT_DELAY').limit(20).show()"
   ]
  },
  {
   "cell_type": "code",
   "execution_count": 37,
   "metadata": {
    "editable": true
   },
   "outputs": [
    {
     "data": {
      "text/plain": [
       "0"
      ]
     },
     "execution_count": 37,
     "metadata": {},
     "output_type": "execute_result"
    }
   ],
   "source": [
    "flights_df.where((flights_df['CANCELLED']==1.0) & \\\n",
    "                 (flights_df['CARRIER_DELAY'].isNull()) & \\\n",
    "                 (flights_df['WEATHER_DELAY'].isNull()) & \\\n",
    "                 (flights_df['NAS_DELAY'].isNull()) & \\\n",
    "                 (flights_df['SECURITY_DELAY'].isNull()) & \\\n",
    "                 (flights_df['LATE_AIRCRAFT_DELAY'].isNull())).count()"
   ]
  },
  {
   "cell_type": "markdown",
   "metadata": {
    "editable": true
   },
   "source": [
    "The columns of *flights_df* which ends with '_TIME' (CRS_DEP_TIME, DEP_TIME, CRS_ARR_TIME, ARR_TIME) express a time in the format 'mmss' so, the value shouldn't be greater than 2359 (23:59)\n"
   ]
  },
  {
   "cell_type": "code",
   "execution_count": 38,
   "metadata": {
    "editable": true
   },
   "outputs": [
    {
     "data": {
      "text/plain": [
       "0"
      ]
     },
     "execution_count": 38,
     "metadata": {},
     "output_type": "execute_result"
    }
   ],
   "source": [
    "flights_df.where((col('CRS_DEP_TIME').cast(\"integer\") > 2359)).count()"
   ]
  },
  {
   "cell_type": "code",
   "execution_count": 39,
   "metadata": {
    "editable": true
   },
   "outputs": [
    {
     "data": {
      "text/plain": [
       "527"
      ]
     },
     "execution_count": 39,
     "metadata": {},
     "output_type": "execute_result"
    }
   ],
   "source": [
    "flights_df.where((col('DEP_TIME').cast(\"integer\") == 2400)).count()"
   ]
  },
  {
   "cell_type": "code",
   "execution_count": 40,
   "metadata": {
    "editable": true
   },
   "outputs": [
    {
     "data": {
      "text/html": [
       "<div>\n",
       "<style scoped>\n",
       "    .dataframe tbody tr th:only-of-type {\n",
       "        vertical-align: middle;\n",
       "    }\n",
       "\n",
       "    .dataframe tbody tr th {\n",
       "        vertical-align: top;\n",
       "    }\n",
       "\n",
       "    .dataframe thead th {\n",
       "        text-align: right;\n",
       "    }\n",
       "</style>\n",
       "<table border=\"1\" class=\"dataframe\">\n",
       "  <thead>\n",
       "    <tr style=\"text-align: right;\">\n",
       "      <th></th>\n",
       "      <th>FL_DATE</th>\n",
       "      <th>OP_CARRIER</th>\n",
       "      <th>OP_CARRIER_FL_NUM</th>\n",
       "      <th>ORIGIN</th>\n",
       "      <th>DEST</th>\n",
       "      <th>CRS_DEP_TIME</th>\n",
       "      <th>DEP_TIME</th>\n",
       "      <th>DEP_DELAY</th>\n",
       "      <th>TAXI_OUT</th>\n",
       "      <th>WHEELS_OFF</th>\n",
       "      <th>...</th>\n",
       "      <th>CRS_ELAPSED_TIME</th>\n",
       "      <th>ACTUAL_ELAPSED_TIME</th>\n",
       "      <th>AIR_TIME</th>\n",
       "      <th>DISTANCE</th>\n",
       "      <th>CARRIER_DELAY</th>\n",
       "      <th>WEATHER_DELAY</th>\n",
       "      <th>NAS_DELAY</th>\n",
       "      <th>SECURITY_DELAY</th>\n",
       "      <th>LATE_AIRCRAFT_DELAY</th>\n",
       "      <th>Unnamed: 27</th>\n",
       "    </tr>\n",
       "  </thead>\n",
       "  <tbody>\n",
       "    <tr>\n",
       "      <th>0</th>\n",
       "      <td>2016-01-01</td>\n",
       "      <td>F9</td>\n",
       "      <td>566</td>\n",
       "      <td>DEN</td>\n",
       "      <td>RDU</td>\n",
       "      <td>2359</td>\n",
       "      <td>2400.0</td>\n",
       "      <td>1.0</td>\n",
       "      <td>21.0</td>\n",
       "      <td>21.0</td>\n",
       "      <td>...</td>\n",
       "      <td>185.0</td>\n",
       "      <td>183.0</td>\n",
       "      <td>157.0</td>\n",
       "      <td>1436.0</td>\n",
       "      <td>None</td>\n",
       "      <td>None</td>\n",
       "      <td>None</td>\n",
       "      <td>None</td>\n",
       "      <td>None</td>\n",
       "      <td>None</td>\n",
       "    </tr>\n",
       "    <tr>\n",
       "      <th>1</th>\n",
       "      <td>2016-01-01</td>\n",
       "      <td>B6</td>\n",
       "      <td>1503</td>\n",
       "      <td>JFK</td>\n",
       "      <td>SJU</td>\n",
       "      <td>2359</td>\n",
       "      <td>2400.0</td>\n",
       "      <td>1.0</td>\n",
       "      <td>20.0</td>\n",
       "      <td>20.0</td>\n",
       "      <td>...</td>\n",
       "      <td>221.0</td>\n",
       "      <td>221.0</td>\n",
       "      <td>197.0</td>\n",
       "      <td>1598.0</td>\n",
       "      <td>None</td>\n",
       "      <td>None</td>\n",
       "      <td>None</td>\n",
       "      <td>None</td>\n",
       "      <td>None</td>\n",
       "      <td>None</td>\n",
       "    </tr>\n",
       "    <tr>\n",
       "      <th>2</th>\n",
       "      <td>2016-01-01</td>\n",
       "      <td>B6</td>\n",
       "      <td>108</td>\n",
       "      <td>JFK</td>\n",
       "      <td>PWM</td>\n",
       "      <td>2245</td>\n",
       "      <td>2400.0</td>\n",
       "      <td>75.0</td>\n",
       "      <td>11.0</td>\n",
       "      <td>11.0</td>\n",
       "      <td>...</td>\n",
       "      <td>68.0</td>\n",
       "      <td>59.0</td>\n",
       "      <td>46.0</td>\n",
       "      <td>273.0</td>\n",
       "      <td>3.0</td>\n",
       "      <td>0.0</td>\n",
       "      <td>0.0</td>\n",
       "      <td>0.0</td>\n",
       "      <td>63.0</td>\n",
       "      <td>None</td>\n",
       "    </tr>\n",
       "    <tr>\n",
       "      <th>3</th>\n",
       "      <td>2016-01-02</td>\n",
       "      <td>AA</td>\n",
       "      <td>1230</td>\n",
       "      <td>SEA</td>\n",
       "      <td>DFW</td>\n",
       "      <td>5</td>\n",
       "      <td>2400.0</td>\n",
       "      <td>-5.0</td>\n",
       "      <td>13.0</td>\n",
       "      <td>13.0</td>\n",
       "      <td>...</td>\n",
       "      <td>230.0</td>\n",
       "      <td>233.0</td>\n",
       "      <td>208.0</td>\n",
       "      <td>1660.0</td>\n",
       "      <td>None</td>\n",
       "      <td>None</td>\n",
       "      <td>None</td>\n",
       "      <td>None</td>\n",
       "      <td>None</td>\n",
       "      <td>None</td>\n",
       "    </tr>\n",
       "    <tr>\n",
       "      <th>4</th>\n",
       "      <td>2016-01-03</td>\n",
       "      <td>OO</td>\n",
       "      <td>5728</td>\n",
       "      <td>LAX</td>\n",
       "      <td>SAT</td>\n",
       "      <td>2359</td>\n",
       "      <td>2400.0</td>\n",
       "      <td>1.0</td>\n",
       "      <td>58.0</td>\n",
       "      <td>58.0</td>\n",
       "      <td>...</td>\n",
       "      <td>173.0</td>\n",
       "      <td>197.0</td>\n",
       "      <td>135.0</td>\n",
       "      <td>1211.0</td>\n",
       "      <td>1.0</td>\n",
       "      <td>0.0</td>\n",
       "      <td>24.0</td>\n",
       "      <td>0.0</td>\n",
       "      <td>0.0</td>\n",
       "      <td>None</td>\n",
       "    </tr>\n",
       "  </tbody>\n",
       "</table>\n",
       "<p>5 rows × 28 columns</p>\n",
       "</div>"
      ],
      "text/plain": [
       "      FL_DATE OP_CARRIER OP_CARRIER_FL_NUM ORIGIN DEST CRS_DEP_TIME DEP_TIME  \\\n",
       "0  2016-01-01         F9               566    DEN  RDU         2359   2400.0   \n",
       "1  2016-01-01         B6              1503    JFK  SJU         2359   2400.0   \n",
       "2  2016-01-01         B6               108    JFK  PWM         2245   2400.0   \n",
       "3  2016-01-02         AA              1230    SEA  DFW            5   2400.0   \n",
       "4  2016-01-03         OO              5728    LAX  SAT         2359   2400.0   \n",
       "\n",
       "  DEP_DELAY TAXI_OUT WHEELS_OFF     ...     CRS_ELAPSED_TIME  \\\n",
       "0       1.0     21.0       21.0     ...                185.0   \n",
       "1       1.0     20.0       20.0     ...                221.0   \n",
       "2      75.0     11.0       11.0     ...                 68.0   \n",
       "3      -5.0     13.0       13.0     ...                230.0   \n",
       "4       1.0     58.0       58.0     ...                173.0   \n",
       "\n",
       "  ACTUAL_ELAPSED_TIME AIR_TIME DISTANCE CARRIER_DELAY WEATHER_DELAY NAS_DELAY  \\\n",
       "0               183.0    157.0   1436.0          None          None      None   \n",
       "1               221.0    197.0   1598.0          None          None      None   \n",
       "2                59.0     46.0    273.0           3.0           0.0       0.0   \n",
       "3               233.0    208.0   1660.0          None          None      None   \n",
       "4               197.0    135.0   1211.0           1.0           0.0      24.0   \n",
       "\n",
       "  SECURITY_DELAY LATE_AIRCRAFT_DELAY Unnamed: 27  \n",
       "0           None                None        None  \n",
       "1           None                None        None  \n",
       "2            0.0                63.0        None  \n",
       "3           None                None        None  \n",
       "4            0.0                 0.0        None  \n",
       "\n",
       "[5 rows x 28 columns]"
      ]
     },
     "execution_count": 40,
     "metadata": {},
     "output_type": "execute_result"
    }
   ],
   "source": [
    "flights_df.where((col('DEP_TIME').cast(\"integer\") == 2400)).limit(5).toPandas()"
   ]
  },
  {
   "cell_type": "code",
   "execution_count": 41,
   "metadata": {
    "editable": true
   },
   "outputs": [
    {
     "data": {
      "text/plain": [
       "0"
      ]
     },
     "execution_count": 41,
     "metadata": {},
     "output_type": "execute_result"
    }
   ],
   "source": [
    "flights_df.where((col('DEP_TIME').cast(\"integer\") > 2400)).count()"
   ]
  },
  {
   "cell_type": "code",
   "execution_count": 42,
   "metadata": {
    "editable": true
   },
   "outputs": [
    {
     "data": {
      "text/plain": [
       "0"
      ]
     },
     "execution_count": 42,
     "metadata": {},
     "output_type": "execute_result"
    }
   ],
   "source": [
    "flights_df.where((col('CRS_DEP_TIME').cast(\"integer\") == 2400)).count()"
   ]
  },
  {
   "cell_type": "markdown",
   "metadata": {
    "editable": true
   },
   "source": [
    "Let's explore the flights which were planned to departure close to the midnight:"
   ]
  },
  {
   "cell_type": "code",
   "execution_count": 43,
   "metadata": {
    "editable": true
   },
   "outputs": [
    {
     "data": {
      "text/html": [
       "<div>\n",
       "<style scoped>\n",
       "    .dataframe tbody tr th:only-of-type {\n",
       "        vertical-align: middle;\n",
       "    }\n",
       "\n",
       "    .dataframe tbody tr th {\n",
       "        vertical-align: top;\n",
       "    }\n",
       "\n",
       "    .dataframe thead th {\n",
       "        text-align: right;\n",
       "    }\n",
       "</style>\n",
       "<table border=\"1\" class=\"dataframe\">\n",
       "  <thead>\n",
       "    <tr style=\"text-align: right;\">\n",
       "      <th></th>\n",
       "      <th>FL_DATE</th>\n",
       "      <th>OP_CARRIER</th>\n",
       "      <th>OP_CARRIER_FL_NUM</th>\n",
       "      <th>ORIGIN</th>\n",
       "      <th>DEST</th>\n",
       "      <th>CRS_DEP_TIME</th>\n",
       "      <th>DEP_TIME</th>\n",
       "      <th>DEP_DELAY</th>\n",
       "      <th>TAXI_OUT</th>\n",
       "      <th>WHEELS_OFF</th>\n",
       "      <th>...</th>\n",
       "      <th>CRS_ELAPSED_TIME</th>\n",
       "      <th>ACTUAL_ELAPSED_TIME</th>\n",
       "      <th>AIR_TIME</th>\n",
       "      <th>DISTANCE</th>\n",
       "      <th>CARRIER_DELAY</th>\n",
       "      <th>WEATHER_DELAY</th>\n",
       "      <th>NAS_DELAY</th>\n",
       "      <th>SECURITY_DELAY</th>\n",
       "      <th>LATE_AIRCRAFT_DELAY</th>\n",
       "      <th>Unnamed: 27</th>\n",
       "    </tr>\n",
       "  </thead>\n",
       "  <tbody>\n",
       "    <tr>\n",
       "      <th>0</th>\n",
       "      <td>2016-01-01</td>\n",
       "      <td>F9</td>\n",
       "      <td>710</td>\n",
       "      <td>DEN</td>\n",
       "      <td>RSW</td>\n",
       "      <td>2359</td>\n",
       "      <td>2359.0</td>\n",
       "      <td>0.0</td>\n",
       "      <td>17.0</td>\n",
       "      <td>16.0</td>\n",
       "      <td>...</td>\n",
       "      <td>211.0</td>\n",
       "      <td>200.0</td>\n",
       "      <td>177.0</td>\n",
       "      <td>1607.0</td>\n",
       "      <td>None</td>\n",
       "      <td>None</td>\n",
       "      <td>None</td>\n",
       "      <td>None</td>\n",
       "      <td>None</td>\n",
       "      <td>None</td>\n",
       "    </tr>\n",
       "    <tr>\n",
       "      <th>1</th>\n",
       "      <td>2016-01-01</td>\n",
       "      <td>F9</td>\n",
       "      <td>682</td>\n",
       "      <td>DEN</td>\n",
       "      <td>MCO</td>\n",
       "      <td>2359</td>\n",
       "      <td>3.0</td>\n",
       "      <td>4.0</td>\n",
       "      <td>20.0</td>\n",
       "      <td>23.0</td>\n",
       "      <td>...</td>\n",
       "      <td>206.0</td>\n",
       "      <td>196.0</td>\n",
       "      <td>169.0</td>\n",
       "      <td>1546.0</td>\n",
       "      <td>None</td>\n",
       "      <td>None</td>\n",
       "      <td>None</td>\n",
       "      <td>None</td>\n",
       "      <td>None</td>\n",
       "      <td>None</td>\n",
       "    </tr>\n",
       "    <tr>\n",
       "      <th>2</th>\n",
       "      <td>2016-01-01</td>\n",
       "      <td>F9</td>\n",
       "      <td>566</td>\n",
       "      <td>DEN</td>\n",
       "      <td>RDU</td>\n",
       "      <td>2359</td>\n",
       "      <td>2400.0</td>\n",
       "      <td>1.0</td>\n",
       "      <td>21.0</td>\n",
       "      <td>21.0</td>\n",
       "      <td>...</td>\n",
       "      <td>185.0</td>\n",
       "      <td>183.0</td>\n",
       "      <td>157.0</td>\n",
       "      <td>1436.0</td>\n",
       "      <td>None</td>\n",
       "      <td>None</td>\n",
       "      <td>None</td>\n",
       "      <td>None</td>\n",
       "      <td>None</td>\n",
       "      <td>None</td>\n",
       "    </tr>\n",
       "    <tr>\n",
       "      <th>3</th>\n",
       "      <td>2016-01-01</td>\n",
       "      <td>F9</td>\n",
       "      <td>300</td>\n",
       "      <td>DEN</td>\n",
       "      <td>TPA</td>\n",
       "      <td>2359</td>\n",
       "      <td>1.0</td>\n",
       "      <td>2.0</td>\n",
       "      <td>19.0</td>\n",
       "      <td>20.0</td>\n",
       "      <td>...</td>\n",
       "      <td>199.0</td>\n",
       "      <td>194.0</td>\n",
       "      <td>168.0</td>\n",
       "      <td>1506.0</td>\n",
       "      <td>None</td>\n",
       "      <td>None</td>\n",
       "      <td>None</td>\n",
       "      <td>None</td>\n",
       "      <td>None</td>\n",
       "      <td>None</td>\n",
       "    </tr>\n",
       "    <tr>\n",
       "      <th>4</th>\n",
       "      <td>2016-01-01</td>\n",
       "      <td>UA</td>\n",
       "      <td>1832</td>\n",
       "      <td>SFO</td>\n",
       "      <td>ORD</td>\n",
       "      <td>2359</td>\n",
       "      <td>2352.0</td>\n",
       "      <td>-7.0</td>\n",
       "      <td>13.0</td>\n",
       "      <td>5.0</td>\n",
       "      <td>...</td>\n",
       "      <td>252.0</td>\n",
       "      <td>237.0</td>\n",
       "      <td>218.0</td>\n",
       "      <td>1846.0</td>\n",
       "      <td>None</td>\n",
       "      <td>None</td>\n",
       "      <td>None</td>\n",
       "      <td>None</td>\n",
       "      <td>None</td>\n",
       "      <td>None</td>\n",
       "    </tr>\n",
       "  </tbody>\n",
       "</table>\n",
       "<p>5 rows × 28 columns</p>\n",
       "</div>"
      ],
      "text/plain": [
       "      FL_DATE OP_CARRIER OP_CARRIER_FL_NUM ORIGIN DEST CRS_DEP_TIME DEP_TIME  \\\n",
       "0  2016-01-01         F9               710    DEN  RSW         2359   2359.0   \n",
       "1  2016-01-01         F9               682    DEN  MCO         2359      3.0   \n",
       "2  2016-01-01         F9               566    DEN  RDU         2359   2400.0   \n",
       "3  2016-01-01         F9               300    DEN  TPA         2359      1.0   \n",
       "4  2016-01-01         UA              1832    SFO  ORD         2359   2352.0   \n",
       "\n",
       "  DEP_DELAY TAXI_OUT WHEELS_OFF     ...     CRS_ELAPSED_TIME  \\\n",
       "0       0.0     17.0       16.0     ...                211.0   \n",
       "1       4.0     20.0       23.0     ...                206.0   \n",
       "2       1.0     21.0       21.0     ...                185.0   \n",
       "3       2.0     19.0       20.0     ...                199.0   \n",
       "4      -7.0     13.0        5.0     ...                252.0   \n",
       "\n",
       "  ACTUAL_ELAPSED_TIME AIR_TIME DISTANCE CARRIER_DELAY WEATHER_DELAY NAS_DELAY  \\\n",
       "0               200.0    177.0   1607.0          None          None      None   \n",
       "1               196.0    169.0   1546.0          None          None      None   \n",
       "2               183.0    157.0   1436.0          None          None      None   \n",
       "3               194.0    168.0   1506.0          None          None      None   \n",
       "4               237.0    218.0   1846.0          None          None      None   \n",
       "\n",
       "  SECURITY_DELAY LATE_AIRCRAFT_DELAY Unnamed: 27  \n",
       "0           None                None        None  \n",
       "1           None                None        None  \n",
       "2           None                None        None  \n",
       "3           None                None        None  \n",
       "4           None                None        None  \n",
       "\n",
       "[5 rows x 28 columns]"
      ]
     },
     "execution_count": 43,
     "metadata": {},
     "output_type": "execute_result"
    }
   ],
   "source": [
    "flights_df.where((col('CRS_DEP_TIME').cast(\"integer\") == 2359)).limit(5).toPandas()"
   ]
  },
  {
   "cell_type": "markdown",
   "metadata": {
    "editable": true
   },
   "source": [
    "There are some time fields with not valid values so, we will remove that data:"
   ]
  },
  {
   "cell_type": "code",
   "execution_count": 44,
   "metadata": {
    "editable": true
   },
   "outputs": [],
   "source": [
    "flights_df = flights_df.where(\n",
    "    (col('DEP_TIME').cast(\"integer\") < 2400) & \\\n",
    "    (col('DEP_TIME').cast(\"integer\") >= 0) & \\\n",
    "    (col('CRS_DEP_TIME').cast(\"integer\") < 2400) & \\\n",
    "    (col('CRS_DEP_TIME').cast(\"integer\") >= 0)\n",
    ")"
   ]
  },
  {
   "cell_type": "markdown",
   "metadata": {
    "editable": true
   },
   "source": [
    "In that case, the arrival will be the following day. The columns which contains a time (CRS_DEP_TIME, DEP_TIME, CRS_ARR_TIME, ARR_TIME) should be padded to 4 chars so, something like '945' will be converted to '0945' which represents '09:45'"
   ]
  },
  {
   "cell_type": "code",
   "execution_count": 45,
   "metadata": {
    "editable": true
   },
   "outputs": [],
   "source": [
    "flights_final_df = flights_df.select(col('FL_DATE').alias('FL_DATE'),\n",
    "                                     col('OP_CARRIER').alias('AIRLINE'),\n",
    "                                     'ORIGIN',\n",
    "                                     'DEST',\n",
    "                                     col('OP_CARRIER_FL_NUM').\\\n",
    "                                         alias('FL_NUMBER'),\n",
    "                                     F.lpad(col('CRS_DEP_TIME').cast(\"int\"), 4, '0').\\\n",
    "                                         alias('CRS_DEP_DATETIME'),\n",
    "                                     F.lpad(col('DEP_TIME').cast(\"int\"), 4, '0').\\\n",
    "                                         alias('DEP_DATETIME'),\n",
    "                                     col('DEP_DELAY').cast('int').alias('DEP_DELAY'),\n",
    "                                     col('TAXI_OUT').cast(\"int\"),\n",
    "                                     F.lpad(col('WHEELS_OFF').cast(\"int\"), 4, '0').\\\n",
    "                                         alias('WHEELS_OFF_DATETIME'),\n",
    "                                     F.lpad(col('WHEELS_ON').cast(\"int\"), 4, '0').\\\n",
    "                                         alias('WHEELS_ON_DATETIME'),\n",
    "                                     col('TAXI_IN').cast(\"int\"),\n",
    "                                     F.lpad(col('CRS_ARR_TIME').cast(\"int\"), 4, '0').\\\n",
    "                                         alias('CRS_ARR_DATETIME'),\n",
    "                                     F.lpad(col('ARR_TIME').cast(\"int\"), 4, '0').\\\n",
    "                                         alias('ARR_TIME_DATETIME'),\n",
    "                                     col('ARR_DELAY').cast('int').alias('ARR_DELAY'),\n",
    "                                    (col('CANCELLED')==1.0).alias('CANCELLED'),\n",
    "                                     'CANCELLATION_CODE',\n",
    "                                    (col('DIVERTED')==1.0).alias('DIVERTED'),                                     \n",
    "                                     col('AIR_TIME').cast(\"int\"),\n",
    "                                     'DISTANCE',\n",
    "                                     col('CRS_ELAPSED_TIME').cast(\"int\").\\\n",
    "                                         alias('EXPECTED_ELAPSED_TIME'), \n",
    "                                     col('ACTUAL_ELAPSED_TIME').cast(\"int\").\\\n",
    "                                         alias('ACTUAL_ELAPSED_TIME'))"
   ]
  },
  {
   "cell_type": "code",
   "execution_count": 46,
   "metadata": {
    "editable": true
   },
   "outputs": [
    {
     "name": "stdout",
     "output_type": "stream",
     "text": [
      "root\n",
      " |-- FL_DATE: string (nullable = true)\n",
      " |-- AIRLINE: string (nullable = true)\n",
      " |-- ORIGIN: string (nullable = true)\n",
      " |-- DEST: string (nullable = true)\n",
      " |-- FL_NUMBER: string (nullable = true)\n",
      " |-- CRS_DEP_DATETIME: string (nullable = true)\n",
      " |-- DEP_DATETIME: string (nullable = true)\n",
      " |-- DEP_DELAY: integer (nullable = true)\n",
      " |-- TAXI_OUT: integer (nullable = true)\n",
      " |-- WHEELS_OFF_DATETIME: string (nullable = true)\n",
      " |-- WHEELS_ON_DATETIME: string (nullable = true)\n",
      " |-- TAXI_IN: integer (nullable = true)\n",
      " |-- CRS_ARR_DATETIME: string (nullable = true)\n",
      " |-- ARR_TIME_DATETIME: string (nullable = true)\n",
      " |-- ARR_DELAY: integer (nullable = true)\n",
      " |-- CANCELLED: boolean (nullable = true)\n",
      " |-- CANCELLATION_CODE: string (nullable = true)\n",
      " |-- DIVERTED: boolean (nullable = true)\n",
      " |-- AIR_TIME: integer (nullable = true)\n",
      " |-- DISTANCE: string (nullable = true)\n",
      " |-- EXPECTED_ELAPSED_TIME: integer (nullable = true)\n",
      " |-- ACTUAL_ELAPSED_TIME: integer (nullable = true)\n",
      "\n"
     ]
    }
   ],
   "source": [
    "flights_final_df.printSchema()"
   ]
  },
  {
   "cell_type": "markdown",
   "metadata": {
    "editable": true
   },
   "source": [
    "We have to build a udf function to build a datetime field from date and time fields. As the time fields are in the local timezone we will convert all the datetimes to UTC. We will use a broadcasted dictionary with the timezone of each airport:"
   ]
  },
  {
   "cell_type": "code",
   "execution_count": 47,
   "metadata": {
    "editable": true
   },
   "outputs": [],
   "source": [
    "states_tz = {}\n",
    "for state in states:\n",
    "    state_tz = us.states.lookup(state).time_zones[0]\n",
    "    et = tz.gettz(state_tz)\n",
    "    states_tz[state] = et"
   ]
  },
  {
   "cell_type": "code",
   "execution_count": 48,
   "metadata": {
    "editable": true
   },
   "outputs": [],
   "source": [
    "airport_tz = {}\n",
    "for _, airport in airports_df.iterrows():\n",
    "    airport_tz[airport['IATA_CODE']] = states_tz[airport['STATE']]"
   ]
  },
  {
   "cell_type": "code",
   "execution_count": 49,
   "metadata": {
    "editable": true
   },
   "outputs": [],
   "source": [
    "airport_tz_bc = spark.sparkContext.broadcast(airport_tz)"
   ]
  },
  {
   "cell_type": "code",
   "execution_count": 50,
   "metadata": {
    "editable": true
   },
   "outputs": [],
   "source": [
    "#@udf(returnType=TimestampType())\n",
    "def convert_datetimes(expected_date, expected_time, airport, delay):\n",
    "    \"\"\"Provide a utc datetime from a date and a time in local airport timezone \n",
    "\n",
    "    Composes a datetime with expected_date and expected_time with the airport timezone,\n",
    "    and add the delay, then converts that datetime to the UTC timezone.\n",
    "\n",
    "    Args:\n",
    "        expected_date (string): date\n",
    "        expected_time (string): time\n",
    "        airport (string): code of the airport in which timezone expected_time is.\n",
    "        delay (int): delay in minutes to add \n",
    "\n",
    "    \"\"\"    \n",
    "    expected_datetime = datetime.datetime.strptime(expected_date + ' ' + expected_time, '%Y-%m-%d %H%M')  \n",
    "    if airport in airport_tz_bc.value:\n",
    "        airport_tz = airport_tz_bc.value[airport]\n",
    "        real_datetime = expected_datetime + datetime.timedelta(minutes=delay)\n",
    "        real_datetime_local_tz = real_datetime.replace(tzinfo=airport_tz)\n",
    "        real_datetime_utc = real_datetime_local_tz.astimezone(datetime.timezone.utc) \n",
    "        result = real_datetime.replace(tzinfo=airport_tz)\n",
    "    else:\n",
    "        result = None \n",
    "    return result"
   ]
  },
  {
   "cell_type": "code",
   "execution_count": 51,
   "metadata": {
    "editable": true
   },
   "outputs": [
    {
     "data": {
      "text/plain": [
       "datetime.datetime(2016, 1, 2, 0, 0, tzinfo=tzfile('/usr/share/zoneinfo/America/New_York'))"
      ]
     },
     "execution_count": 51,
     "metadata": {},
     "output_type": "execute_result"
    }
   ],
   "source": [
    "convert_datetimes('2016-01-01', '2359', 'ABE', 1)"
   ]
  },
  {
   "cell_type": "code",
   "execution_count": 52,
   "metadata": {
    "editable": true
   },
   "outputs": [],
   "source": [
    "convert_datetimes('2016-01-01', '2359', 'BAD_AIRPORT_CODE', 0)"
   ]
  },
  {
   "cell_type": "markdown",
   "metadata": {
    "editable": true
   },
   "source": [
    "We declare the function as a udf and try it on the fligh dataframe:"
   ]
  },
  {
   "cell_type": "code",
   "execution_count": 53,
   "metadata": {
    "editable": true
   },
   "outputs": [],
   "source": [
    "convert_datetimes_udf = udf(convert_datetimes, TimestampType())"
   ]
  },
  {
   "cell_type": "code",
   "execution_count": 54,
   "metadata": {
    "editable": true
   },
   "outputs": [
    {
     "data": {
      "text/html": [
       "<div>\n",
       "<style scoped>\n",
       "    .dataframe tbody tr th:only-of-type {\n",
       "        vertical-align: middle;\n",
       "    }\n",
       "\n",
       "    .dataframe tbody tr th {\n",
       "        vertical-align: top;\n",
       "    }\n",
       "\n",
       "    .dataframe thead th {\n",
       "        text-align: right;\n",
       "    }\n",
       "</style>\n",
       "<table border=\"1\" class=\"dataframe\">\n",
       "  <thead>\n",
       "    <tr style=\"text-align: right;\">\n",
       "      <th></th>\n",
       "      <th>convert_datetimes(FL_DATE, CRS_DEP_DATETIME, ORIGIN, DEP_DELAY)</th>\n",
       "    </tr>\n",
       "  </thead>\n",
       "  <tbody>\n",
       "    <tr>\n",
       "      <th>0</th>\n",
       "      <td>2016-01-02 00:35:00</td>\n",
       "    </tr>\n",
       "    <tr>\n",
       "      <th>1</th>\n",
       "      <td>2016-01-02 02:30:00</td>\n",
       "    </tr>\n",
       "    <tr>\n",
       "      <th>2</th>\n",
       "      <td>2016-01-02 06:56:00</td>\n",
       "    </tr>\n",
       "    <tr>\n",
       "      <th>3</th>\n",
       "      <td>2016-01-02 00:00:00</td>\n",
       "    </tr>\n",
       "    <tr>\n",
       "      <th>4</th>\n",
       "      <td>2016-01-01 17:12:00</td>\n",
       "    </tr>\n",
       "  </tbody>\n",
       "</table>\n",
       "</div>"
      ],
      "text/plain": [
       "  convert_datetimes(FL_DATE, CRS_DEP_DATETIME, ORIGIN, DEP_DELAY)\n",
       "0                                2016-01-02 00:35:00             \n",
       "1                                2016-01-02 02:30:00             \n",
       "2                                2016-01-02 06:56:00             \n",
       "3                                2016-01-02 00:00:00             \n",
       "4                                2016-01-01 17:12:00             "
      ]
     },
     "execution_count": 54,
     "metadata": {},
     "output_type": "execute_result"
    }
   ],
   "source": [
    "flights_final_df.select(convert_datetimes_udf('FL_DATE', \n",
    "                                              'CRS_DEP_DATETIME', \n",
    "                                              'ORIGIN', \n",
    "                                              'DEP_DELAY')).limit(5).toPandas()"
   ]
  },
  {
   "cell_type": "markdown",
   "metadata": {
    "editable": true
   },
   "source": [
    "We will use this udf in the flight ETL."
   ]
  },
  {
   "cell_type": "markdown",
   "metadata": {
    "editable": true
   },
   "source": [
    "### Step 3: Define the Data Model\n",
    "#### 3.1 Conceptual Data Model\n",
    "The conceptual model has 5 entities: Flight, Airline, Airport, Datetime, Cancelation. \n",
    "\n",
    "<img src=\"./assets/model.jpg\">"
   ]
  },
  {
   "cell_type": "markdown",
   "metadata": {
    "editable": true
   },
   "source": [
    "We will implement this model as a star schema that is very convinient for analysis. \n",
    "\n",
    "**Fact Tables**:\n",
    "- Fligth\n",
    "\n",
    "**Dimmension Tables**:\n",
    "- Airline\n",
    "- Airport\n",
    "- Datetime\n",
    "- Cancelation"
   ]
  },
  {
   "cell_type": "markdown",
   "metadata": {
    "editable": true
   },
   "source": [
    "#### 3.2 Mapping Out Data Pipelines\n",
    "The ETL process has the following steps:\n",
    "\n",
    "- We use Spark to load the raw data \n",
    "- We clean the data\n",
    "- We transform the data (obtain calculated fields, drop useless columns)\n",
    "- We save the final fact and dimension tables as parquet files"
   ]
  },
  {
   "cell_type": "markdown",
   "metadata": {
    "editable": true
   },
   "source": [
    "### Step 4: Run Pipelines to Model the Data \n",
    "#### 4.1 Create the data model\n",
    "We will save the final parquet files here:"
   ]
  },
  {
   "cell_type": "code",
   "execution_count": 55,
   "metadata": {
    "editable": true
   },
   "outputs": [],
   "source": [
    "output_data = \"/home/workspace/output/\""
   ]
  },
  {
   "cell_type": "markdown",
   "metadata": {
    "editable": true
   },
   "source": [
    "#### airline_table"
   ]
  },
  {
   "cell_type": "code",
   "execution_count": 56,
   "metadata": {
    "editable": true
   },
   "outputs": [],
   "source": [
    "airlines_df.columns = ['id_airline', 'name']"
   ]
  },
  {
   "cell_type": "code",
   "execution_count": 57,
   "metadata": {
    "editable": true
   },
   "outputs": [],
   "source": [
    "airline_table = spark.createDataFrame(airlines_df)"
   ]
  },
  {
   "cell_type": "code",
   "execution_count": 58,
   "metadata": {
    "editable": true
   },
   "outputs": [
    {
     "name": "stdout",
     "output_type": "stream",
     "text": [
      "+----------+--------------------+\n",
      "|id_airline|                name|\n",
      "+----------+--------------------+\n",
      "|        UA|United Air Lines ...|\n",
      "|        AA|American Airlines...|\n",
      "|        US|     US Airways Inc.|\n",
      "|        F9|Frontier Airlines...|\n",
      "|        B6|     JetBlue Airways|\n",
      "|        OO|Skywest Airlines ...|\n",
      "|        AS|Alaska Airlines Inc.|\n",
      "|        NK|    Spirit Air Lines|\n",
      "|        WN|Southwest Airline...|\n",
      "|        DL|Delta Air Lines Inc.|\n",
      "|        EV|Atlantic Southeas...|\n",
      "|        HA|Hawaiian Airlines...|\n",
      "|        MQ|American Eagle Ai...|\n",
      "|        VX|      Virgin America|\n",
      "+----------+--------------------+\n",
      "\n"
     ]
    }
   ],
   "source": [
    "airline_table.show()"
   ]
  },
  {
   "cell_type": "code",
   "execution_count": 59,
   "metadata": {
    "editable": true
   },
   "outputs": [],
   "source": [
    "airline_table.write.parquet(\n",
    "    output_data + \"airline_table.parquet\",\n",
    "    mode=\"overwrite\"\n",
    ")"
   ]
  },
  {
   "cell_type": "markdown",
   "metadata": {
    "editable": true
   },
   "source": [
    "#### airport_table"
   ]
  },
  {
   "cell_type": "code",
   "execution_count": 60,
   "metadata": {
    "editable": true
   },
   "outputs": [],
   "source": [
    "airports_df.columns = ['id_airport', 'name', 'city', 'state', 'country', 'latitude', 'longitude']"
   ]
  },
  {
   "cell_type": "code",
   "execution_count": 61,
   "metadata": {
    "editable": true
   },
   "outputs": [
    {
     "data": {
      "text/html": [
       "<div>\n",
       "<style scoped>\n",
       "    .dataframe tbody tr th:only-of-type {\n",
       "        vertical-align: middle;\n",
       "    }\n",
       "\n",
       "    .dataframe tbody tr th {\n",
       "        vertical-align: top;\n",
       "    }\n",
       "\n",
       "    .dataframe thead th {\n",
       "        text-align: right;\n",
       "    }\n",
       "</style>\n",
       "<table border=\"1\" class=\"dataframe\">\n",
       "  <thead>\n",
       "    <tr style=\"text-align: right;\">\n",
       "      <th></th>\n",
       "      <th>id_airport</th>\n",
       "      <th>name</th>\n",
       "      <th>city</th>\n",
       "      <th>state</th>\n",
       "      <th>country</th>\n",
       "      <th>latitude</th>\n",
       "      <th>longitude</th>\n",
       "    </tr>\n",
       "  </thead>\n",
       "  <tbody>\n",
       "    <tr>\n",
       "      <th>0</th>\n",
       "      <td>ABE</td>\n",
       "      <td>Lehigh Valley International Airport</td>\n",
       "      <td>Allentown</td>\n",
       "      <td>PA</td>\n",
       "      <td>USA</td>\n",
       "      <td>40.65236</td>\n",
       "      <td>-75.44040</td>\n",
       "    </tr>\n",
       "    <tr>\n",
       "      <th>1</th>\n",
       "      <td>ABI</td>\n",
       "      <td>Abilene Regional Airport</td>\n",
       "      <td>Abilene</td>\n",
       "      <td>TX</td>\n",
       "      <td>USA</td>\n",
       "      <td>32.41132</td>\n",
       "      <td>-99.68190</td>\n",
       "    </tr>\n",
       "    <tr>\n",
       "      <th>2</th>\n",
       "      <td>ABQ</td>\n",
       "      <td>Albuquerque International Sunport</td>\n",
       "      <td>Albuquerque</td>\n",
       "      <td>NM</td>\n",
       "      <td>USA</td>\n",
       "      <td>35.04022</td>\n",
       "      <td>-106.60919</td>\n",
       "    </tr>\n",
       "    <tr>\n",
       "      <th>3</th>\n",
       "      <td>ABR</td>\n",
       "      <td>Aberdeen Regional Airport</td>\n",
       "      <td>Aberdeen</td>\n",
       "      <td>SD</td>\n",
       "      <td>USA</td>\n",
       "      <td>45.44906</td>\n",
       "      <td>-98.42183</td>\n",
       "    </tr>\n",
       "    <tr>\n",
       "      <th>4</th>\n",
       "      <td>ABY</td>\n",
       "      <td>Southwest Georgia Regional Airport</td>\n",
       "      <td>Albany</td>\n",
       "      <td>GA</td>\n",
       "      <td>USA</td>\n",
       "      <td>31.53552</td>\n",
       "      <td>-84.19447</td>\n",
       "    </tr>\n",
       "  </tbody>\n",
       "</table>\n",
       "</div>"
      ],
      "text/plain": [
       "  id_airport                                 name         city state country  \\\n",
       "0        ABE  Lehigh Valley International Airport    Allentown    PA     USA   \n",
       "1        ABI             Abilene Regional Airport      Abilene    TX     USA   \n",
       "2        ABQ    Albuquerque International Sunport  Albuquerque    NM     USA   \n",
       "3        ABR            Aberdeen Regional Airport     Aberdeen    SD     USA   \n",
       "4        ABY   Southwest Georgia Regional Airport       Albany    GA     USA   \n",
       "\n",
       "   latitude  longitude  \n",
       "0  40.65236  -75.44040  \n",
       "1  32.41132  -99.68190  \n",
       "2  35.04022 -106.60919  \n",
       "3  45.44906  -98.42183  \n",
       "4  31.53552  -84.19447  "
      ]
     },
     "execution_count": 61,
     "metadata": {},
     "output_type": "execute_result"
    }
   ],
   "source": [
    "airports_df.head()"
   ]
  },
  {
   "cell_type": "code",
   "execution_count": 62,
   "metadata": {
    "editable": true
   },
   "outputs": [],
   "source": [
    "airport_table = spark.createDataFrame(airports_df)"
   ]
  },
  {
   "cell_type": "code",
   "execution_count": 63,
   "metadata": {
    "editable": true
   },
   "outputs": [
    {
     "name": "stdout",
     "output_type": "stream",
     "text": [
      "+----------+--------------------+-----------+-----+-------+------------------+-------------------+\n",
      "|id_airport|                name|       city|state|country|          latitude|          longitude|\n",
      "+----------+--------------------+-----------+-----+-------+------------------+-------------------+\n",
      "|       ABE|Lehigh Valley Int...|  Allentown|   PA|    USA|40.652359999999994|           -75.4404|\n",
      "|       ABI|Abilene Regional ...|    Abilene|   TX|    USA|          32.41132|           -99.6819|\n",
      "|       ABQ|Albuquerque Inter...|Albuquerque|   NM|    USA|          35.04022|-106.60918999999998|\n",
      "|       ABR|Aberdeen Regional...|   Aberdeen|   SD|    USA|45.449059999999996|          -98.42183|\n",
      "|       ABY|Southwest Georgia...|     Albany|   GA|    USA|          31.53552|          -84.19447|\n",
      "+----------+--------------------+-----------+-----+-------+------------------+-------------------+\n",
      "only showing top 5 rows\n",
      "\n"
     ]
    }
   ],
   "source": [
    "airport_table.show(5)"
   ]
  },
  {
   "cell_type": "code",
   "execution_count": 64,
   "metadata": {
    "editable": true
   },
   "outputs": [],
   "source": [
    "airport_table.write.parquet(\n",
    "    output_data + \"airport_table.parquet\",\n",
    "    mode=\"overwrite\"\n",
    ")"
   ]
  },
  {
   "cell_type": "markdown",
   "metadata": {
    "editable": true
   },
   "source": [
    "#### cancelation_table"
   ]
  },
  {
   "cell_type": "code",
   "execution_count": 65,
   "metadata": {
    "editable": true
   },
   "outputs": [],
   "source": [
    "cancelation_dict = {\n",
    "    'id_cancelation': ['A', 'B', 'C', 'D'],\n",
    "    'name': ['Airline/Carrier', 'Weather','National Air System', 'Security']}\n",
    "\n",
    "cancelation_df = pd.DataFrame.from_dict(cancelation_dict,)"
   ]
  },
  {
   "cell_type": "code",
   "execution_count": 66,
   "metadata": {
    "editable": true
   },
   "outputs": [],
   "source": [
    "cancelation_table = spark.createDataFrame(cancelation_df)"
   ]
  },
  {
   "cell_type": "code",
   "execution_count": 67,
   "metadata": {
    "editable": true
   },
   "outputs": [
    {
     "name": "stdout",
     "output_type": "stream",
     "text": [
      "+--------------+-------------------+\n",
      "|id_cancelation|               name|\n",
      "+--------------+-------------------+\n",
      "|             A|    Airline/Carrier|\n",
      "|             B|            Weather|\n",
      "|             C|National Air System|\n",
      "|             D|           Security|\n",
      "+--------------+-------------------+\n",
      "\n"
     ]
    }
   ],
   "source": [
    "cancelation_table.show()"
   ]
  },
  {
   "cell_type": "code",
   "execution_count": 68,
   "metadata": {
    "editable": true
   },
   "outputs": [],
   "source": [
    "cancelation_table.write.parquet(\n",
    "    output_data + \"cancelation_table.parquet\",\n",
    "    mode=\"overwrite\"\n",
    ")"
   ]
  },
  {
   "cell_type": "markdown",
   "metadata": {
    "editable": true
   },
   "source": [
    "#### flight_table"
   ]
  },
  {
   "cell_type": "code",
   "execution_count": 69,
   "metadata": {
    "editable": true
   },
   "outputs": [
    {
     "name": "stdout",
     "output_type": "stream",
     "text": [
      "root\n",
      " |-- FL_DATE: string (nullable = true)\n",
      " |-- AIRLINE: string (nullable = true)\n",
      " |-- ORIGIN: string (nullable = true)\n",
      " |-- DEST: string (nullable = true)\n",
      " |-- FL_NUMBER: string (nullable = true)\n",
      " |-- CRS_DEP_DATETIME: string (nullable = true)\n",
      " |-- DEP_DATETIME: string (nullable = true)\n",
      " |-- DEP_DELAY: integer (nullable = true)\n",
      " |-- TAXI_OUT: integer (nullable = true)\n",
      " |-- WHEELS_OFF_DATETIME: string (nullable = true)\n",
      " |-- WHEELS_ON_DATETIME: string (nullable = true)\n",
      " |-- TAXI_IN: integer (nullable = true)\n",
      " |-- CRS_ARR_DATETIME: string (nullable = true)\n",
      " |-- ARR_TIME_DATETIME: string (nullable = true)\n",
      " |-- ARR_DELAY: integer (nullable = true)\n",
      " |-- CANCELLED: boolean (nullable = true)\n",
      " |-- CANCELLATION_CODE: string (nullable = true)\n",
      " |-- DIVERTED: boolean (nullable = true)\n",
      " |-- AIR_TIME: integer (nullable = true)\n",
      " |-- DISTANCE: string (nullable = true)\n",
      " |-- EXPECTED_ELAPSED_TIME: integer (nullable = true)\n",
      " |-- ACTUAL_ELAPSED_TIME: integer (nullable = true)\n",
      "\n"
     ]
    }
   ],
   "source": [
    "flights_final_df.printSchema()"
   ]
  },
  {
   "cell_type": "code",
   "execution_count": 70,
   "metadata": {
    "editable": true
   },
   "outputs": [],
   "source": [
    "# We take a sample data because the full table is to big and it will take a lot of time.\n",
    "# In production we would use the whole data and a lot of spark nodes\n",
    "flights_final_df = flights_final_df.sample(False, 0.1, seed=0)"
   ]
  },
  {
   "cell_type": "code",
   "execution_count": 71,
   "metadata": {
    "editable": true
   },
   "outputs": [],
   "source": [
    "flight_table = flights_final_df.select(\n",
    "    convert_datetimes_udf('FL_DATE', \n",
    "                          'CRS_DEP_DATETIME', \n",
    "                          'ORIGIN', \n",
    "                          F.lit(0)).alias('FL_DATETIME'),     \n",
    "    'AIRLINE', \n",
    "    'ORIGIN', \n",
    "    'DEST', \n",
    "    'FL_NUMBER',                        \n",
    "    'DEP_DELAY',                                          \n",
    "    'ARR_DELAY',\n",
    "    'CANCELLED',\n",
    "    'CANCELLATION_CODE',\n",
    "    'DIVERTED',\n",
    "    'TAXI_OUT',\n",
    "    'AIR_TIME',\n",
    "    'TAXI_IN',\n",
    "    'DISTANCE',\n",
    "    'EXPECTED_ELAPSED_TIME',\n",
    "    'ACTUAL_ELAPSED_TIME'                        \n",
    ")"
   ]
  },
  {
   "cell_type": "code",
   "execution_count": 72,
   "metadata": {
    "editable": true
   },
   "outputs": [],
   "source": [
    "flight_table = flight_table.withColumn(\"FL_TIMESTAMP\", F.unix_timestamp('FL_DATETIME'))"
   ]
  },
  {
   "cell_type": "code",
   "execution_count": 73,
   "metadata": {
    "editable": true
   },
   "outputs": [
    {
     "data": {
      "text/html": [
       "<div>\n",
       "<style scoped>\n",
       "    .dataframe tbody tr th:only-of-type {\n",
       "        vertical-align: middle;\n",
       "    }\n",
       "\n",
       "    .dataframe tbody tr th {\n",
       "        vertical-align: top;\n",
       "    }\n",
       "\n",
       "    .dataframe thead th {\n",
       "        text-align: right;\n",
       "    }\n",
       "</style>\n",
       "<table border=\"1\" class=\"dataframe\">\n",
       "  <thead>\n",
       "    <tr style=\"text-align: right;\">\n",
       "      <th></th>\n",
       "      <th>FL_DATETIME</th>\n",
       "      <th>AIRLINE</th>\n",
       "      <th>ORIGIN</th>\n",
       "      <th>DEST</th>\n",
       "      <th>FL_NUMBER</th>\n",
       "      <th>DEP_DELAY</th>\n",
       "      <th>ARR_DELAY</th>\n",
       "      <th>CANCELLED</th>\n",
       "      <th>CANCELLATION_CODE</th>\n",
       "      <th>DIVERTED</th>\n",
       "      <th>TAXI_OUT</th>\n",
       "      <th>AIR_TIME</th>\n",
       "      <th>TAXI_IN</th>\n",
       "      <th>DISTANCE</th>\n",
       "      <th>EXPECTED_ELAPSED_TIME</th>\n",
       "      <th>ACTUAL_ELAPSED_TIME</th>\n",
       "      <th>FL_TIMESTAMP</th>\n",
       "    </tr>\n",
       "  </thead>\n",
       "  <tbody>\n",
       "    <tr>\n",
       "      <th>0</th>\n",
       "      <td>2016-01-02 01:07:00</td>\n",
       "      <td>DL</td>\n",
       "      <td>ATL</td>\n",
       "      <td>JAX</td>\n",
       "      <td>1273</td>\n",
       "      <td>7</td>\n",
       "      <td>-2</td>\n",
       "      <td>False</td>\n",
       "      <td>None</td>\n",
       "      <td>False</td>\n",
       "      <td>10</td>\n",
       "      <td>45</td>\n",
       "      <td>3</td>\n",
       "      <td>270.0</td>\n",
       "      <td>67</td>\n",
       "      <td>58</td>\n",
       "      <td>1451696820</td>\n",
       "    </tr>\n",
       "    <tr>\n",
       "      <th>1</th>\n",
       "      <td>2016-01-02 00:20:00</td>\n",
       "      <td>DL</td>\n",
       "      <td>SEA</td>\n",
       "      <td>KOA</td>\n",
       "      <td>1287</td>\n",
       "      <td>1</td>\n",
       "      <td>-3</td>\n",
       "      <td>False</td>\n",
       "      <td>None</td>\n",
       "      <td>False</td>\n",
       "      <td>12</td>\n",
       "      <td>353</td>\n",
       "      <td>7</td>\n",
       "      <td>2688.0</td>\n",
       "      <td>376</td>\n",
       "      <td>372</td>\n",
       "      <td>1451694000</td>\n",
       "    </tr>\n",
       "    <tr>\n",
       "      <th>2</th>\n",
       "      <td>2016-01-01 19:50:00</td>\n",
       "      <td>DL</td>\n",
       "      <td>ATL</td>\n",
       "      <td>MSY</td>\n",
       "      <td>1293</td>\n",
       "      <td>0</td>\n",
       "      <td>-12</td>\n",
       "      <td>False</td>\n",
       "      <td>None</td>\n",
       "      <td>False</td>\n",
       "      <td>14</td>\n",
       "      <td>69</td>\n",
       "      <td>5</td>\n",
       "      <td>425.0</td>\n",
       "      <td>100</td>\n",
       "      <td>88</td>\n",
       "      <td>1451677800</td>\n",
       "    </tr>\n",
       "    <tr>\n",
       "      <th>3</th>\n",
       "      <td>2016-01-01 21:20:00</td>\n",
       "      <td>DL</td>\n",
       "      <td>SRQ</td>\n",
       "      <td>ATL</td>\n",
       "      <td>1297</td>\n",
       "      <td>-1</td>\n",
       "      <td>-7</td>\n",
       "      <td>False</td>\n",
       "      <td>None</td>\n",
       "      <td>False</td>\n",
       "      <td>16</td>\n",
       "      <td>71</td>\n",
       "      <td>7</td>\n",
       "      <td>444.0</td>\n",
       "      <td>100</td>\n",
       "      <td>94</td>\n",
       "      <td>1451683200</td>\n",
       "    </tr>\n",
       "    <tr>\n",
       "      <th>4</th>\n",
       "      <td>2016-01-01 15:30:00</td>\n",
       "      <td>DL</td>\n",
       "      <td>ATL</td>\n",
       "      <td>SDF</td>\n",
       "      <td>1302</td>\n",
       "      <td>1</td>\n",
       "      <td>0</td>\n",
       "      <td>False</td>\n",
       "      <td>None</td>\n",
       "      <td>False</td>\n",
       "      <td>12</td>\n",
       "      <td>56</td>\n",
       "      <td>7</td>\n",
       "      <td>321.0</td>\n",
       "      <td>76</td>\n",
       "      <td>75</td>\n",
       "      <td>1451662200</td>\n",
       "    </tr>\n",
       "  </tbody>\n",
       "</table>\n",
       "</div>"
      ],
      "text/plain": [
       "          FL_DATETIME AIRLINE ORIGIN DEST FL_NUMBER  DEP_DELAY  ARR_DELAY  \\\n",
       "0 2016-01-02 01:07:00      DL    ATL  JAX      1273          7         -2   \n",
       "1 2016-01-02 00:20:00      DL    SEA  KOA      1287          1         -3   \n",
       "2 2016-01-01 19:50:00      DL    ATL  MSY      1293          0        -12   \n",
       "3 2016-01-01 21:20:00      DL    SRQ  ATL      1297         -1         -7   \n",
       "4 2016-01-01 15:30:00      DL    ATL  SDF      1302          1          0   \n",
       "\n",
       "   CANCELLED CANCELLATION_CODE  DIVERTED  TAXI_OUT  AIR_TIME  TAXI_IN  \\\n",
       "0      False              None     False        10        45        3   \n",
       "1      False              None     False        12       353        7   \n",
       "2      False              None     False        14        69        5   \n",
       "3      False              None     False        16        71        7   \n",
       "4      False              None     False        12        56        7   \n",
       "\n",
       "  DISTANCE  EXPECTED_ELAPSED_TIME  ACTUAL_ELAPSED_TIME  FL_TIMESTAMP  \n",
       "0    270.0                     67                   58    1451696820  \n",
       "1   2688.0                    376                  372    1451694000  \n",
       "2    425.0                    100                   88    1451677800  \n",
       "3    444.0                    100                   94    1451683200  \n",
       "4    321.0                     76                   75    1451662200  "
      ]
     },
     "execution_count": 73,
     "metadata": {},
     "output_type": "execute_result"
    }
   ],
   "source": [
    "flight_table.limit(5).toPandas()"
   ]
  },
  {
   "cell_type": "code",
   "execution_count": 74,
   "metadata": {
    "editable": true
   },
   "outputs": [
    {
     "name": "stdout",
     "output_type": "stream",
     "text": [
      "root\n",
      " |-- FL_DATETIME: timestamp (nullable = true)\n",
      " |-- AIRLINE: string (nullable = true)\n",
      " |-- ORIGIN: string (nullable = true)\n",
      " |-- DEST: string (nullable = true)\n",
      " |-- FL_NUMBER: string (nullable = true)\n",
      " |-- DEP_DELAY: integer (nullable = true)\n",
      " |-- ARR_DELAY: integer (nullable = true)\n",
      " |-- CANCELLED: boolean (nullable = true)\n",
      " |-- CANCELLATION_CODE: string (nullable = true)\n",
      " |-- DIVERTED: boolean (nullable = true)\n",
      " |-- TAXI_OUT: integer (nullable = true)\n",
      " |-- AIR_TIME: integer (nullable = true)\n",
      " |-- TAXI_IN: integer (nullable = true)\n",
      " |-- DISTANCE: string (nullable = true)\n",
      " |-- EXPECTED_ELAPSED_TIME: integer (nullable = true)\n",
      " |-- ACTUAL_ELAPSED_TIME: integer (nullable = true)\n",
      " |-- FL_TIMESTAMP: long (nullable = true)\n",
      "\n"
     ]
    }
   ],
   "source": [
    "flight_table.printSchema()"
   ]
  },
  {
   "cell_type": "code",
   "execution_count": 75,
   "metadata": {
    "editable": true
   },
   "outputs": [],
   "source": [
    "flight_table.drop('FL_DATETIME').write.parquet(\n",
    "    output_data + \"flight_table.parquet\",\n",
    "    mode=\"overwrite\"\n",
    ")"
   ]
  },
  {
   "cell_type": "markdown",
   "metadata": {
    "editable": true
   },
   "source": [
    "#### datetime_table"
   ]
  },
  {
   "cell_type": "code",
   "execution_count": 76,
   "metadata": {
    "editable": true
   },
   "outputs": [],
   "source": [
    "# Write code here\n",
    "datetime_table = flight_table.select(\n",
    "    'FL_TIMESTAMP',\n",
    "    year('FL_DATETIME').alias('year'),    \n",
    "    month('FL_DATETIME').alias('month'),    \n",
    "    dayofmonth('FL_DATETIME').alias('day'),    \n",
    "    hour('FL_DATETIME').alias('hour'),\n",
    "    minute('FL_DATETIME').alias('minute'),    \n",
    "    second('FL_DATETIME').alias('second'), \n",
    "    weekofyear('FL_DATETIME').alias('week'),\n",
    "    date_format('FL_DATETIME', 'u').cast('int').alias('weekday')\n",
    ").drop_duplicates()"
   ]
  },
  {
   "cell_type": "code",
   "execution_count": 77,
   "metadata": {
    "editable": true
   },
   "outputs": [
    {
     "data": {
      "text/html": [
       "<div>\n",
       "<style scoped>\n",
       "    .dataframe tbody tr th:only-of-type {\n",
       "        vertical-align: middle;\n",
       "    }\n",
       "\n",
       "    .dataframe tbody tr th {\n",
       "        vertical-align: top;\n",
       "    }\n",
       "\n",
       "    .dataframe thead th {\n",
       "        text-align: right;\n",
       "    }\n",
       "</style>\n",
       "<table border=\"1\" class=\"dataframe\">\n",
       "  <thead>\n",
       "    <tr style=\"text-align: right;\">\n",
       "      <th></th>\n",
       "      <th>FL_TIMESTAMP</th>\n",
       "      <th>year</th>\n",
       "      <th>month</th>\n",
       "      <th>day</th>\n",
       "      <th>hour</th>\n",
       "      <th>minute</th>\n",
       "      <th>second</th>\n",
       "      <th>week</th>\n",
       "      <th>weekday</th>\n",
       "    </tr>\n",
       "  </thead>\n",
       "  <tbody>\n",
       "    <tr>\n",
       "      <th>0</th>\n",
       "      <td>1451648160</td>\n",
       "      <td>2016</td>\n",
       "      <td>1</td>\n",
       "      <td>1</td>\n",
       "      <td>11</td>\n",
       "      <td>36</td>\n",
       "      <td>0</td>\n",
       "      <td>53</td>\n",
       "      <td>5</td>\n",
       "    </tr>\n",
       "    <tr>\n",
       "      <th>1</th>\n",
       "      <td>1451770620</td>\n",
       "      <td>2016</td>\n",
       "      <td>1</td>\n",
       "      <td>2</td>\n",
       "      <td>21</td>\n",
       "      <td>37</td>\n",
       "      <td>0</td>\n",
       "      <td>53</td>\n",
       "      <td>6</td>\n",
       "    </tr>\n",
       "    <tr>\n",
       "      <th>2</th>\n",
       "      <td>1451737500</td>\n",
       "      <td>2016</td>\n",
       "      <td>1</td>\n",
       "      <td>2</td>\n",
       "      <td>12</td>\n",
       "      <td>25</td>\n",
       "      <td>0</td>\n",
       "      <td>53</td>\n",
       "      <td>6</td>\n",
       "    </tr>\n",
       "    <tr>\n",
       "      <th>3</th>\n",
       "      <td>1451847900</td>\n",
       "      <td>2016</td>\n",
       "      <td>1</td>\n",
       "      <td>3</td>\n",
       "      <td>19</td>\n",
       "      <td>5</td>\n",
       "      <td>0</td>\n",
       "      <td>53</td>\n",
       "      <td>7</td>\n",
       "    </tr>\n",
       "    <tr>\n",
       "      <th>4</th>\n",
       "      <td>1451839740</td>\n",
       "      <td>2016</td>\n",
       "      <td>1</td>\n",
       "      <td>3</td>\n",
       "      <td>16</td>\n",
       "      <td>49</td>\n",
       "      <td>0</td>\n",
       "      <td>53</td>\n",
       "      <td>7</td>\n",
       "    </tr>\n",
       "  </tbody>\n",
       "</table>\n",
       "</div>"
      ],
      "text/plain": [
       "   FL_TIMESTAMP  year  month  day  hour  minute  second  week  weekday\n",
       "0    1451648160  2016      1    1    11      36       0    53        5\n",
       "1    1451770620  2016      1    2    21      37       0    53        6\n",
       "2    1451737500  2016      1    2    12      25       0    53        6\n",
       "3    1451847900  2016      1    3    19       5       0    53        7\n",
       "4    1451839740  2016      1    3    16      49       0    53        7"
      ]
     },
     "execution_count": 77,
     "metadata": {},
     "output_type": "execute_result"
    }
   ],
   "source": [
    "datetime_table.limit(5).toPandas()"
   ]
  },
  {
   "cell_type": "code",
   "execution_count": 78,
   "metadata": {
    "editable": true
   },
   "outputs": [
    {
     "data": {
      "text/plain": [
       "193229"
      ]
     },
     "execution_count": 78,
     "metadata": {},
     "output_type": "execute_result"
    }
   ],
   "source": [
    "datetime_table.count()"
   ]
  },
  {
   "cell_type": "code",
   "execution_count": 79,
   "metadata": {
    "editable": true
   },
   "outputs": [],
   "source": [
    "datetime_table.write.parquet(\n",
    "    output_data + \"datetime_table.parquet\",\n",
    "    mode=\"overwrite\"\n",
    ")"
   ]
  },
  {
   "cell_type": "markdown",
   "metadata": {
    "editable": true
   },
   "source": [
    "#### 4.2 Data Quality Checks\n",
    "Explain the data quality checks you'll perform to ensure the pipeline ran as expected. These could include:\n",
    " * Integrity constraints on the relational database (e.g., unique key, data type, etc.)\n",
    " * Unit tests for the scripts to ensure they are doing the right thing\n",
    " * Source/Count checks to ensure completeness\n",
    " \n",
    "Run Quality Checks"
   ]
  },
  {
   "cell_type": "code",
   "execution_count": 80,
   "metadata": {
    "editable": true
   },
   "outputs": [],
   "source": [
    "assert flight_table.where(flights_df['ACTUAL_ELAPSED_TIME'] != \\\n",
    "                          (flights_df['AIR_TIME'] + \n",
    "                           flights_df['TAXI_IN'] + \n",
    "                           flights_df['TAXI_OUT'])).count() == 0"
   ]
  },
  {
   "cell_type": "markdown",
   "metadata": {
    "editable": true
   },
   "source": [
    "Let's check there are not bad aiport codes or bad airline codes in flight_table:"
   ]
  },
  {
   "cell_type": "code",
   "execution_count": 82,
   "metadata": {
    "editable": true
   },
   "outputs": [],
   "source": [
    "airline_codes = airline_table.select('id_airline').rdd.flatMap(lambda x: x).collect()"
   ]
  },
  {
   "cell_type": "code",
   "execution_count": 83,
   "metadata": {
    "editable": true
   },
   "outputs": [
    {
     "data": {
      "text/plain": [
       "['UA',\n",
       " 'AA',\n",
       " 'US',\n",
       " 'F9',\n",
       " 'B6',\n",
       " 'OO',\n",
       " 'AS',\n",
       " 'NK',\n",
       " 'WN',\n",
       " 'DL',\n",
       " 'EV',\n",
       " 'HA',\n",
       " 'MQ',\n",
       " 'VX']"
      ]
     },
     "execution_count": 83,
     "metadata": {},
     "output_type": "execute_result"
    }
   ],
   "source": [
    "airline_codes"
   ]
  },
  {
   "cell_type": "code",
   "execution_count": 84,
   "metadata": {
    "editable": true
   },
   "outputs": [],
   "source": [
    "assert flight_table.filter(~flight_table[\"AIRLINE\"].isin(airline_codes)).count() == 0"
   ]
  },
  {
   "cell_type": "code",
   "execution_count": 85,
   "metadata": {
    "editable": true
   },
   "outputs": [],
   "source": [
    "airport_codes = airport_table.select('id_airport').rdd.flatMap(lambda x: x).collect()"
   ]
  },
  {
   "cell_type": "code",
   "execution_count": 86,
   "metadata": {
    "editable": true
   },
   "outputs": [
    {
     "data": {
      "text/plain": [
       "7"
      ]
     },
     "execution_count": 86,
     "metadata": {},
     "output_type": "execute_result"
    }
   ],
   "source": [
    "flight_table.filter(~flight_table[\"ORIGIN\"].isin(airport_codes)).count()"
   ]
  },
  {
   "cell_type": "code",
   "execution_count": 87,
   "metadata": {
    "editable": true
   },
   "outputs": [
    {
     "data": {
      "text/plain": [
       "7"
      ]
     },
     "execution_count": 87,
     "metadata": {},
     "output_type": "execute_result"
    }
   ],
   "source": [
    "flight_table.filter(~flight_table[\"DEST\"].isin(airport_codes)).count()"
   ]
  },
  {
   "cell_type": "markdown",
   "metadata": {
    "editable": true
   },
   "source": [
    "It looks like we have a very small number of flights with a wrong or new airport code as origin or destination. This could be a warning to review the official list of airports or to drop the rows"
   ]
  },
  {
   "cell_type": "code",
   "execution_count": 88,
   "metadata": {
    "editable": true
   },
   "outputs": [
    {
     "name": "stdout",
     "output_type": "stream",
     "text": [
      "+------+\n",
      "|ORIGIN|\n",
      "+------+\n",
      "|   PGD|\n",
      "+------+\n",
      "\n"
     ]
    }
   ],
   "source": [
    "flight_table.filter(~flight_table[\"ORIGIN\"].isin(airport_codes)).select(\"ORIGIN\").distinct().show()"
   ]
  },
  {
   "cell_type": "code",
   "execution_count": 89,
   "metadata": {
    "editable": true
   },
   "outputs": [
    {
     "name": "stdout",
     "output_type": "stream",
     "text": [
      "+----+\n",
      "|DEST|\n",
      "+----+\n",
      "| PGD|\n",
      "+----+\n",
      "\n"
     ]
    }
   ],
   "source": [
    "flight_table.filter(~flight_table[\"DEST\"].isin(airport_codes)).select(\"DEST\").distinct().show()"
   ]
  },
  {
   "cell_type": "markdown",
   "metadata": {
    "editable": true
   },
   "source": [
    "#### 4.3 Data dictionary \n",
    "\n",
    "These are the tables of the dimensional model with their fields and meaning:\n",
    "\n",
    "\n",
    "**Fact Tables**:\n",
    "- **Fligth**\n",
    "    - **id_flight** int: unique incremental identifier, used in case of loading into redshift tables\n",
    "    - **FL_TIMESTAMP** int: utc datetime of the scheduled departure as unix timestamp \n",
    "    - **AIRLINE** char: airline code of the flight\n",
    "    - **ORIGIN** char: code of the state origin of the flight\n",
    "    - **DEST** char: code of the destination state of the fligh\n",
    "    - **FL_NUMBER** varchar: code of the number asigned to the flight\n",
    "    - **DEP_DELAY** float: departure delay in minutes\n",
    "    - **DEP_ARRAY** float: arrival delay in minutes\n",
    "    - **CANCELLED** bool: indicates if the flight was cancelled\n",
    "    - **CANCELLATION_CODE** char: indicates the cancellation cause, in case of cancellation\n",
    "    - **DIVERTED** bool: indicates if the flight was diverted\n",
    "    - **DISTANCE** float: distance between the two airports (in miles)\n",
    "    - **TAXI_OUT** float: the time duration elapsed between departure from the origin airport gate and 'wheels off'\n",
    "    - **AIR_TIME** float: the time duration between 'wheels off' and 'wheels on' time\n",
    "    - **TAXI_IN** float: the time duration elapsed between 'wheels on' and gate arrival at the destination airport\n",
    "    - **EXPECTED_ELAPSED_TIME** float: planned elapsed Time of flight, in minutes\n",
    "    - **ACTUAL_ELAPSED_TIME** float: real elapsed Time of flight, in minutes (AIR_TIME+TAXI_IN+TAXI_OUT)\n",
    "\n",
    "**Dimmension Tables**:\n",
    "- **Airline**\n",
    "    - **id_airline** char: code of the airline\n",
    "    - **name** varchar: name of the airline\n",
    "    \n",
    "\n",
    "- **Airport**\n",
    "    - **id_airport** char: code of the airport\n",
    "    - **name** varchar: name of the airport\n",
    "    - **city** varchar: city of the airport\n",
    "    - **state** varchar: state of the airport\n",
    "    - **country** varchar: country code of the airport\n",
    "    - **latitude** float: latitude of the airport\n",
    "    - **longitude** float: longitude of the airport\n",
    "\n",
    "\n",
    "- **Datetime**:\n",
    "    - **id_datetime** int: datetime timestamp\n",
    "    - **year** int: year in number\n",
    "    - **month** int: month in number\n",
    "    - **day** int: day in number\n",
    "    - **hour** int: hour in number\n",
    "    - **minute** int: minutes in number\n",
    "    - **second** int: seconds in number\n",
    "    - **week** int: number of week of the year\n",
    "    - **weekday** int: day of the week in number (1: Monday, ...)\n",
    "  \n",
    "\n",
    "- **Cancelation**\n",
    "    - **id_cancelation** char: cancelation code\n",
    "    - **name** varchar: description of the cancelation\n"
   ]
  },
  {
   "cell_type": "markdown",
   "metadata": {
    "editable": true
   },
   "source": [
    "#### Step 5: Complete Project Write Up\n",
    "* Clearly state the rationale for the choice of tools and technologies for the project.\n",
    "* Propose how often the data should be updated and why.\n",
    "* Write a description of how you would approach the problem differently under the following scenarios:\n",
    " * The data was increased by 100x.\n",
    " * The data populates a dashboard that must be updated on a daily basis by 7am every day.\n",
    " * The database needed to be accessed by 100+ people."
   ]
  },
  {
   "cell_type": "markdown",
   "metadata": {
    "editable": true
   },
   "source": [
    "1. I have choosen to build a data lake with Spark to read and process the raw data and save the final model as parquet files. I assume that the objective of the Data Analyst team is to do monthly analysis so, it wouldn't be necessary to have a live Datawarehouse or a live Spark Cluster all the time: a process could run every month just to complete the ETL process of the new raw files and produce the parquet files, which could be stored in S3. When it were necessary, the Data Analysts could run a Spark cluster to read the clean parquet files and complete their analysis, or even to use a solution as Amazon Athena.  "
   ]
  },
  {
   "cell_type": "markdown",
   "metadata": {
    "editable": true
   },
   "source": [
    "2. The frequency would depend on the final users requirements. My assumpion is that these kind of reports will be for monthly statistics but, if the objective were to have an almost real time dashboard, it could be necessary to have a live Spark Cluster processing streaming data."
   ]
  },
  {
   "cell_type": "markdown",
   "metadata": {
    "editable": true
   },
   "source": [
    "3. In the following scenarios:\n",
    "    - **The data was increased by 100x**: the solution could be the same but, more nodes in the Spark cluster would be necessary in order to increase the spead\n",
    "    - **The data populates a dashboard that must be updated on a daily basis by 7am every day**: it would be necessary to update the data with more frequency. In that case a tool like Airflow could be a good option to incorporate to monitorize all the process and to alert with its SLA features.\n",
    "    - **The database needed to be accessed by 100+ people**: we could consider to use a MPP database like Redshift for these case. We could have as many nodes as we needed. Other option would be to increase the nodes of the Spark cluster. "
   ]
  }
 ],
 "metadata": {
  "kernelspec": {
   "display_name": "Python 3",
   "language": "python",
   "name": "python3"
  },
  "language_info": {
   "codemirror_mode": {
    "name": "ipython",
    "version": 3
   },
   "file_extension": ".py",
   "mimetype": "text/x-python",
   "name": "python",
   "nbconvert_exporter": "python",
   "pygments_lexer": "ipython3",
   "version": "3.6.3"
  }
 },
 "nbformat": 4,
 "nbformat_minor": 4
}
